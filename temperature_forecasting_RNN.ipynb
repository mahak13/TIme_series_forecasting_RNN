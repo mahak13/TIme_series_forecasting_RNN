{
 "cells": [
  {
   "cell_type": "markdown",
   "id": "contemporary-discovery",
   "metadata": {},
   "source": [
    "# Loading important libraries and data"
   ]
  },
  {
   "cell_type": "code",
   "execution_count": 1,
   "id": "unknown-romantic",
   "metadata": {},
   "outputs": [],
   "source": [
    "import pandas as pd\n",
    "import numpy as np\n",
    "import matplotlib.pyplot as plt\n",
    "import datetime\n",
    "import IPython\n",
    "import IPython.display\n",
    "import matplotlib as mpl\n",
    "import seaborn as sns\n",
    "import tensorflow as tf\n",
    "from sklearn.metrics import mean_absolute_error\n",
    "\n",
    "%matplotlib inline\n",
    "\n",
    "trainval=pd.read_csv(\"trainvalid.csv\")\n",
    "test=pd.read_csv(\"test.csv\")"
   ]
  },
  {
   "cell_type": "markdown",
   "id": "acting-cabin",
   "metadata": {},
   "source": [
    "# Data Exploration"
   ]
  },
  {
   "cell_type": "code",
   "execution_count": 2,
   "id": "executive-tribute",
   "metadata": {},
   "outputs": [
    {
     "data": {
      "text/html": [
       "<div>\n",
       "<style scoped>\n",
       "    .dataframe tbody tr th:only-of-type {\n",
       "        vertical-align: middle;\n",
       "    }\n",
       "\n",
       "    .dataframe tbody tr th {\n",
       "        vertical-align: top;\n",
       "    }\n",
       "\n",
       "    .dataframe thead th {\n",
       "        text-align: right;\n",
       "    }\n",
       "</style>\n",
       "<table border=\"1\" class=\"dataframe\">\n",
       "  <thead>\n",
       "    <tr style=\"text-align: right;\">\n",
       "      <th></th>\n",
       "      <th>datetime</th>\n",
       "      <th>temperature</th>\n",
       "      <th>humidity</th>\n",
       "      <th>pressure</th>\n",
       "      <th>weather</th>\n",
       "      <th>wind_direction</th>\n",
       "      <th>wind_speed</th>\n",
       "    </tr>\n",
       "  </thead>\n",
       "  <tbody>\n",
       "    <tr>\n",
       "      <th>0</th>\n",
       "      <td>2012-10-01 12:00:00</td>\n",
       "      <td>NaN</td>\n",
       "      <td>NaN</td>\n",
       "      <td>NaN</td>\n",
       "      <td>NaN</td>\n",
       "      <td>NaN</td>\n",
       "      <td>NaN</td>\n",
       "    </tr>\n",
       "    <tr>\n",
       "      <th>1</th>\n",
       "      <td>2012-10-01 13:00:00</td>\n",
       "      <td>291.870000</td>\n",
       "      <td>88.0</td>\n",
       "      <td>1013.0</td>\n",
       "      <td>mist</td>\n",
       "      <td>0.0</td>\n",
       "      <td>0.0</td>\n",
       "    </tr>\n",
       "    <tr>\n",
       "      <th>2</th>\n",
       "      <td>2012-10-01 14:00:00</td>\n",
       "      <td>291.868186</td>\n",
       "      <td>88.0</td>\n",
       "      <td>1013.0</td>\n",
       "      <td>sky is clear</td>\n",
       "      <td>0.0</td>\n",
       "      <td>0.0</td>\n",
       "    </tr>\n",
       "    <tr>\n",
       "      <th>3</th>\n",
       "      <td>2012-10-01 15:00:00</td>\n",
       "      <td>291.862844</td>\n",
       "      <td>88.0</td>\n",
       "      <td>1013.0</td>\n",
       "      <td>sky is clear</td>\n",
       "      <td>0.0</td>\n",
       "      <td>0.0</td>\n",
       "    </tr>\n",
       "    <tr>\n",
       "      <th>4</th>\n",
       "      <td>2012-10-01 16:00:00</td>\n",
       "      <td>291.857503</td>\n",
       "      <td>88.0</td>\n",
       "      <td>1013.0</td>\n",
       "      <td>sky is clear</td>\n",
       "      <td>0.0</td>\n",
       "      <td>0.0</td>\n",
       "    </tr>\n",
       "    <tr>\n",
       "      <th>...</th>\n",
       "      <td>...</td>\n",
       "      <td>...</td>\n",
       "      <td>...</td>\n",
       "      <td>...</td>\n",
       "      <td>...</td>\n",
       "      <td>...</td>\n",
       "      <td>...</td>\n",
       "    </tr>\n",
       "    <tr>\n",
       "      <th>45008</th>\n",
       "      <td>2017-11-19 20:00:00</td>\n",
       "      <td>295.440000</td>\n",
       "      <td>17.0</td>\n",
       "      <td>1017.0</td>\n",
       "      <td>sky is clear</td>\n",
       "      <td>345.0</td>\n",
       "      <td>1.0</td>\n",
       "    </tr>\n",
       "    <tr>\n",
       "      <th>45009</th>\n",
       "      <td>2017-11-19 21:00:00</td>\n",
       "      <td>296.020000</td>\n",
       "      <td>16.0</td>\n",
       "      <td>1016.0</td>\n",
       "      <td>sky is clear</td>\n",
       "      <td>345.0</td>\n",
       "      <td>1.0</td>\n",
       "    </tr>\n",
       "    <tr>\n",
       "      <th>45010</th>\n",
       "      <td>2017-11-19 22:00:00</td>\n",
       "      <td>296.510000</td>\n",
       "      <td>17.0</td>\n",
       "      <td>1015.0</td>\n",
       "      <td>sky is clear</td>\n",
       "      <td>345.0</td>\n",
       "      <td>1.0</td>\n",
       "    </tr>\n",
       "    <tr>\n",
       "      <th>45011</th>\n",
       "      <td>2017-11-19 23:00:00</td>\n",
       "      <td>297.090000</td>\n",
       "      <td>17.0</td>\n",
       "      <td>1014.0</td>\n",
       "      <td>sky is clear</td>\n",
       "      <td>324.0</td>\n",
       "      <td>0.0</td>\n",
       "    </tr>\n",
       "    <tr>\n",
       "      <th>45012</th>\n",
       "      <td>2017-11-20 00:00:00</td>\n",
       "      <td>296.690000</td>\n",
       "      <td>25.0</td>\n",
       "      <td>1014.0</td>\n",
       "      <td>sky is clear</td>\n",
       "      <td>0.0</td>\n",
       "      <td>2.0</td>\n",
       "    </tr>\n",
       "  </tbody>\n",
       "</table>\n",
       "<p>45013 rows × 7 columns</p>\n",
       "</div>"
      ],
      "text/plain": [
       "                  datetime  temperature  humidity  pressure       weather  \\\n",
       "0      2012-10-01 12:00:00          NaN       NaN       NaN           NaN   \n",
       "1      2012-10-01 13:00:00   291.870000      88.0    1013.0          mist   \n",
       "2      2012-10-01 14:00:00   291.868186      88.0    1013.0  sky is clear   \n",
       "3      2012-10-01 15:00:00   291.862844      88.0    1013.0  sky is clear   \n",
       "4      2012-10-01 16:00:00   291.857503      88.0    1013.0  sky is clear   \n",
       "...                    ...          ...       ...       ...           ...   \n",
       "45008  2017-11-19 20:00:00   295.440000      17.0    1017.0  sky is clear   \n",
       "45009  2017-11-19 21:00:00   296.020000      16.0    1016.0  sky is clear   \n",
       "45010  2017-11-19 22:00:00   296.510000      17.0    1015.0  sky is clear   \n",
       "45011  2017-11-19 23:00:00   297.090000      17.0    1014.0  sky is clear   \n",
       "45012  2017-11-20 00:00:00   296.690000      25.0    1014.0  sky is clear   \n",
       "\n",
       "       wind_direction  wind_speed  \n",
       "0                 NaN         NaN  \n",
       "1                 0.0         0.0  \n",
       "2                 0.0         0.0  \n",
       "3                 0.0         0.0  \n",
       "4                 0.0         0.0  \n",
       "...               ...         ...  \n",
       "45008           345.0         1.0  \n",
       "45009           345.0         1.0  \n",
       "45010           345.0         1.0  \n",
       "45011           324.0         0.0  \n",
       "45012             0.0         2.0  \n",
       "\n",
       "[45013 rows x 7 columns]"
      ]
     },
     "execution_count": 2,
     "metadata": {},
     "output_type": "execute_result"
    }
   ],
   "source": [
    "trainval"
   ]
  },
  {
   "cell_type": "code",
   "execution_count": 3,
   "id": "annoying-davis",
   "metadata": {},
   "outputs": [
    {
     "data": {
      "text/plain": [
       "sky is clear                    25983\n",
       "haze                             3490\n",
       "mist                             2938\n",
       "broken clouds                    2564\n",
       "overcast clouds                  2432\n",
       "scattered clouds                 2266\n",
       "light rain                       1946\n",
       "few clouds                       1754\n",
       "fog                               560\n",
       "moderate rain                     481\n",
       "smoke                             203\n",
       "heavy intensity rain              127\n",
       "light intensity drizzle           102\n",
       "dust                               64\n",
       "proximity thunderstorm             25\n",
       "very heavy rain                    20\n",
       "thunderstorm                       17\n",
       "thunderstorm with light rain       13\n",
       "shower rain                         8\n",
       "drizzle                             5\n",
       "proximity shower rain               4\n",
       "light intensity shower rain         3\n",
       "squalls                             3\n",
       "thunderstorm with rain              2\n",
       "thunderstorm with heavy rain        2\n",
       "Name: weather, dtype: int64"
      ]
     },
     "execution_count": 3,
     "metadata": {},
     "output_type": "execute_result"
    }
   ],
   "source": [
    "#checking frequency of each category for 'weather' column\n",
    "trainval['weather'].value_counts()"
   ]
  },
  {
   "cell_type": "code",
   "execution_count": 4,
   "id": "irish-still",
   "metadata": {},
   "outputs": [
    {
     "data": {
      "text/plain": [
       "25"
      ]
     },
     "execution_count": 4,
     "metadata": {},
     "output_type": "execute_result"
    }
   ],
   "source": [
    "#number of categories in 'weather' column\n",
    "len(trainval['weather'].value_counts())"
   ]
  },
  {
   "cell_type": "code",
   "execution_count": 5,
   "id": "champion-contamination",
   "metadata": {},
   "outputs": [
    {
     "name": "stdout",
     "output_type": "stream",
     "text": [
      "<class 'pandas.core.frame.DataFrame'>\n",
      "RangeIndex: 45013 entries, 0 to 45012\n",
      "Data columns (total 7 columns):\n",
      " #   Column          Non-Null Count  Dtype  \n",
      "---  ------          --------------  -----  \n",
      " 0   datetime        45013 non-null  object \n",
      " 1   temperature     45010 non-null  float64\n",
      " 2   humidity        44861 non-null  float64\n",
      " 3   pressure        44761 non-null  float64\n",
      " 4   weather         45012 non-null  object \n",
      " 5   wind_direction  45012 non-null  float64\n",
      " 6   wind_speed      45012 non-null  float64\n",
      "dtypes: float64(5), object(2)\n",
      "memory usage: 2.4+ MB\n"
     ]
    }
   ],
   "source": [
    "#statistics of each column in dataset\n",
    "trainval.info()"
   ]
  },
  {
   "cell_type": "code",
   "execution_count": 6,
   "id": "mexican-mention",
   "metadata": {},
   "outputs": [],
   "source": [
    "#converting datetime column to pandas datetime for train and test data(Kaggle)\n",
    "date_time = pd.to_datetime(trainval.pop('datetime'), format='%Y.%m.%d %H:%M:%S')"
   ]
  },
  {
   "cell_type": "code",
   "execution_count": 7,
   "id": "printable-poultry",
   "metadata": {},
   "outputs": [],
   "source": [
    "date_time_test=pd.to_datetime(test.pop('datetime'), format='%Y.%m.%d %H:%M:%S')"
   ]
  },
  {
   "cell_type": "code",
   "execution_count": 8,
   "id": "vanilla-ivory",
   "metadata": {},
   "outputs": [
    {
     "data": {
      "text/plain": [
       "<module 'datetime' from '/usr/lib/python3.8/datetime.py'>"
      ]
     },
     "execution_count": 8,
     "metadata": {},
     "output_type": "execute_result"
    }
   ],
   "source": [
    "datetime"
   ]
  },
  {
   "cell_type": "code",
   "execution_count": 9,
   "id": "selected-wrapping",
   "metadata": {},
   "outputs": [
    {
     "data": {
      "image/png": "[encoded data removed]",
      "text/plain": [
       "<Figure size 720x720 with 3 Axes>"
      ]
     },
     "metadata": {
      "needs_background": "light"
     },
     "output_type": "display_data"
    },
    {
     "data": {
      "image/png": "[encoded data removed]",
      "text/plain": [
       "<Figure size 720x720 with 3 Axes>"
      ]
     },
     "metadata": {
      "needs_background": "light"
     },
     "output_type": "display_data"
    }
   ],
   "source": [
    "#plotting temperature, humidity and pressure for full data and first 500 values\n",
    "plot_cols = ['temperature', 'humidity', 'pressure']\n",
    "plot_features = trainval[plot_cols]\n",
    "plot_features.index = date_time\n",
    "_ = plot_features.plot(subplots=True,figsize=(10,10))\n",
    "\n",
    "plot_features = trainval[plot_cols][:500]\n",
    "plot_features.index = date_time[:500]\n",
    "_ = plot_features.plot(subplots=True,figsize=(10,10))"
   ]
  },
  {
   "cell_type": "code",
   "execution_count": 10,
   "id": "oriental-regard",
   "metadata": {},
   "outputs": [
    {
     "data": {
      "text/html": [
       "<div>\n",
       "<style scoped>\n",
       "    .dataframe tbody tr th:only-of-type {\n",
       "        vertical-align: middle;\n",
       "    }\n",
       "\n",
       "    .dataframe tbody tr th {\n",
       "        vertical-align: top;\n",
       "    }\n",
       "\n",
       "    .dataframe thead th {\n",
       "        text-align: right;\n",
       "    }\n",
       "</style>\n",
       "<table border=\"1\" class=\"dataframe\">\n",
       "  <thead>\n",
       "    <tr style=\"text-align: right;\">\n",
       "      <th></th>\n",
       "      <th>temperature</th>\n",
       "      <th>humidity</th>\n",
       "      <th>pressure</th>\n",
       "      <th>wind_direction</th>\n",
       "      <th>wind_speed</th>\n",
       "    </tr>\n",
       "  </thead>\n",
       "  <tbody>\n",
       "    <tr>\n",
       "      <th>count</th>\n",
       "      <td>45010.000000</td>\n",
       "      <td>44861.000000</td>\n",
       "      <td>44761.000000</td>\n",
       "      <td>45012.000000</td>\n",
       "      <td>45012.000000</td>\n",
       "    </tr>\n",
       "    <tr>\n",
       "      <th>mean</th>\n",
       "      <td>290.841547</td>\n",
       "      <td>62.823767</td>\n",
       "      <td>1015.915127</td>\n",
       "      <td>139.733804</td>\n",
       "      <td>1.220652</td>\n",
       "    </tr>\n",
       "    <tr>\n",
       "      <th>std</th>\n",
       "      <td>6.465152</td>\n",
       "      <td>21.786687</td>\n",
       "      <td>11.316175</td>\n",
       "      <td>105.545576</td>\n",
       "      <td>1.435687</td>\n",
       "    </tr>\n",
       "    <tr>\n",
       "      <th>min</th>\n",
       "      <td>266.503667</td>\n",
       "      <td>5.000000</td>\n",
       "      <td>886.000000</td>\n",
       "      <td>0.000000</td>\n",
       "      <td>0.000000</td>\n",
       "    </tr>\n",
       "    <tr>\n",
       "      <th>25%</th>\n",
       "      <td>286.370000</td>\n",
       "      <td>48.000000</td>\n",
       "      <td>1013.000000</td>\n",
       "      <td>29.000000</td>\n",
       "      <td>0.000000</td>\n",
       "    </tr>\n",
       "    <tr>\n",
       "      <th>50%</th>\n",
       "      <td>290.530000</td>\n",
       "      <td>66.000000</td>\n",
       "      <td>1016.000000</td>\n",
       "      <td>140.000000</td>\n",
       "      <td>1.000000</td>\n",
       "    </tr>\n",
       "    <tr>\n",
       "      <th>75%</th>\n",
       "      <td>295.080000</td>\n",
       "      <td>81.000000</td>\n",
       "      <td>1021.000000</td>\n",
       "      <td>230.000000</td>\n",
       "      <td>2.000000</td>\n",
       "    </tr>\n",
       "    <tr>\n",
       "      <th>max</th>\n",
       "      <td>315.470000</td>\n",
       "      <td>100.000000</td>\n",
       "      <td>1044.000000</td>\n",
       "      <td>360.000000</td>\n",
       "      <td>17.000000</td>\n",
       "    </tr>\n",
       "  </tbody>\n",
       "</table>\n",
       "</div>"
      ],
      "text/plain": [
       "        temperature      humidity      pressure  wind_direction    wind_speed\n",
       "count  45010.000000  44861.000000  44761.000000    45012.000000  45012.000000\n",
       "mean     290.841547     62.823767   1015.915127      139.733804      1.220652\n",
       "std        6.465152     21.786687     11.316175      105.545576      1.435687\n",
       "min      266.503667      5.000000    886.000000        0.000000      0.000000\n",
       "25%      286.370000     48.000000   1013.000000       29.000000      0.000000\n",
       "50%      290.530000     66.000000   1016.000000      140.000000      1.000000\n",
       "75%      295.080000     81.000000   1021.000000      230.000000      2.000000\n",
       "max      315.470000    100.000000   1044.000000      360.000000     17.000000"
      ]
     },
     "execution_count": 10,
     "metadata": {},
     "output_type": "execute_result"
    }
   ],
   "source": [
    "trainval.describe()"
   ]
  },
  {
   "cell_type": "markdown",
   "id": "ceramic-north",
   "metadata": {},
   "source": [
    "# Data Pre-processing"
   ]
  },
  {
   "cell_type": "code",
   "execution_count": 11,
   "id": "based-creativity",
   "metadata": {},
   "outputs": [],
   "source": [
    "#filling missing values with backward fill for train set and test set(Kaggle)\n",
    "trainval=trainval.fillna(method=\"bfill\")"
   ]
  },
  {
   "cell_type": "code",
   "execution_count": 12,
   "id": "chubby-momentum",
   "metadata": {},
   "outputs": [],
   "source": [
    "test=test.fillna(method=\"bfill\")"
   ]
  },
  {
   "cell_type": "code",
   "execution_count": 13,
   "id": "unnecessary-channels",
   "metadata": {},
   "outputs": [
    {
     "data": {
      "text/plain": [
       "Text(0, 0.5, 'Wind speed')"
      ]
     },
     "execution_count": 13,
     "metadata": {},
     "output_type": "execute_result"
    },
    {
     "data": {
      "image/png": "[encoded data removed]",
      "text/plain": [
       "<Figure size 432x288 with 2 Axes>"
      ]
     },
     "metadata": {
      "needs_background": "light"
     },
     "output_type": "display_data"
    }
   ],
   "source": [
    "#plotting wind direction vs wind speed for train set\n",
    "plt.hist2d(trainval['wind_direction'], trainval['wind_speed'], bins=(50, 50),vmax=400)\n",
    "plt.colorbar()\n",
    "plt.xlabel('Wind Direction [deg]')\n",
    "plt.ylabel('Wind speed')"
   ]
  },
  {
   "cell_type": "code",
   "execution_count": 14,
   "id": "automotive-correspondence",
   "metadata": {},
   "outputs": [],
   "source": [
    "# converting wind direction and wind speed into single vector for train set and test set(kaggle)\n",
    "wind_speed = trainval.pop('wind_speed')\n",
    "\n",
    "# Converting to radians.\n",
    "wd_rad = trainval.pop('wind_direction')*np.pi / 180\n",
    "\n",
    "# Calculate the wind x and y components.\n",
    "trainval['Wind_x'] = wind_speed*np.cos(wd_rad)\n",
    "trainval['Wind_y'] = wind_speed*np.sin(wd_rad)"
   ]
  },
  {
   "cell_type": "code",
   "execution_count": 15,
   "id": "norwegian-lexington",
   "metadata": {},
   "outputs": [],
   "source": [
    "wind_speed = test.pop('wind_speed')\n",
    "\n",
    "# Converting to radians.\n",
    "wd_rad = test.pop('wind_direction')*np.pi / 180\n",
    "\n",
    "# Calculate the wind x and y components.\n",
    "test['Wind_x'] = wind_speed*np.cos(wd_rad)\n",
    "test['Wind_y'] = wind_speed*np.sin(wd_rad)"
   ]
  },
  {
   "cell_type": "code",
   "execution_count": 16,
   "id": "individual-dressing",
   "metadata": {},
   "outputs": [
    {
     "data": {
      "text/html": [
       "<div>\n",
       "<style scoped>\n",
       "    .dataframe tbody tr th:only-of-type {\n",
       "        vertical-align: middle;\n",
       "    }\n",
       "\n",
       "    .dataframe tbody tr th {\n",
       "        vertical-align: top;\n",
       "    }\n",
       "\n",
       "    .dataframe thead th {\n",
       "        text-align: right;\n",
       "    }\n",
       "</style>\n",
       "<table border=\"1\" class=\"dataframe\">\n",
       "  <thead>\n",
       "    <tr style=\"text-align: right;\">\n",
       "      <th></th>\n",
       "      <th>temperature</th>\n",
       "      <th>humidity</th>\n",
       "      <th>pressure</th>\n",
       "      <th>weather</th>\n",
       "      <th>Wind_x</th>\n",
       "      <th>Wind_y</th>\n",
       "    </tr>\n",
       "  </thead>\n",
       "  <tbody>\n",
       "    <tr>\n",
       "      <th>0</th>\n",
       "      <td>291.870000</td>\n",
       "      <td>88.0</td>\n",
       "      <td>1013.0</td>\n",
       "      <td>mist</td>\n",
       "      <td>0.000000</td>\n",
       "      <td>0.000000</td>\n",
       "    </tr>\n",
       "    <tr>\n",
       "      <th>1</th>\n",
       "      <td>291.870000</td>\n",
       "      <td>88.0</td>\n",
       "      <td>1013.0</td>\n",
       "      <td>mist</td>\n",
       "      <td>0.000000</td>\n",
       "      <td>0.000000</td>\n",
       "    </tr>\n",
       "    <tr>\n",
       "      <th>2</th>\n",
       "      <td>291.868186</td>\n",
       "      <td>88.0</td>\n",
       "      <td>1013.0</td>\n",
       "      <td>sky is clear</td>\n",
       "      <td>0.000000</td>\n",
       "      <td>0.000000</td>\n",
       "    </tr>\n",
       "    <tr>\n",
       "      <th>3</th>\n",
       "      <td>291.862844</td>\n",
       "      <td>88.0</td>\n",
       "      <td>1013.0</td>\n",
       "      <td>sky is clear</td>\n",
       "      <td>0.000000</td>\n",
       "      <td>0.000000</td>\n",
       "    </tr>\n",
       "    <tr>\n",
       "      <th>4</th>\n",
       "      <td>291.857503</td>\n",
       "      <td>88.0</td>\n",
       "      <td>1013.0</td>\n",
       "      <td>sky is clear</td>\n",
       "      <td>0.000000</td>\n",
       "      <td>0.000000</td>\n",
       "    </tr>\n",
       "    <tr>\n",
       "      <th>...</th>\n",
       "      <td>...</td>\n",
       "      <td>...</td>\n",
       "      <td>...</td>\n",
       "      <td>...</td>\n",
       "      <td>...</td>\n",
       "      <td>...</td>\n",
       "    </tr>\n",
       "    <tr>\n",
       "      <th>45008</th>\n",
       "      <td>295.440000</td>\n",
       "      <td>17.0</td>\n",
       "      <td>1017.0</td>\n",
       "      <td>sky is clear</td>\n",
       "      <td>0.965926</td>\n",
       "      <td>-0.258819</td>\n",
       "    </tr>\n",
       "    <tr>\n",
       "      <th>45009</th>\n",
       "      <td>296.020000</td>\n",
       "      <td>16.0</td>\n",
       "      <td>1016.0</td>\n",
       "      <td>sky is clear</td>\n",
       "      <td>0.965926</td>\n",
       "      <td>-0.258819</td>\n",
       "    </tr>\n",
       "    <tr>\n",
       "      <th>45010</th>\n",
       "      <td>296.510000</td>\n",
       "      <td>17.0</td>\n",
       "      <td>1015.0</td>\n",
       "      <td>sky is clear</td>\n",
       "      <td>0.965926</td>\n",
       "      <td>-0.258819</td>\n",
       "    </tr>\n",
       "    <tr>\n",
       "      <th>45011</th>\n",
       "      <td>297.090000</td>\n",
       "      <td>17.0</td>\n",
       "      <td>1014.0</td>\n",
       "      <td>sky is clear</td>\n",
       "      <td>0.000000</td>\n",
       "      <td>-0.000000</td>\n",
       "    </tr>\n",
       "    <tr>\n",
       "      <th>45012</th>\n",
       "      <td>296.690000</td>\n",
       "      <td>25.0</td>\n",
       "      <td>1014.0</td>\n",
       "      <td>sky is clear</td>\n",
       "      <td>2.000000</td>\n",
       "      <td>0.000000</td>\n",
       "    </tr>\n",
       "  </tbody>\n",
       "</table>\n",
       "<p>45013 rows × 6 columns</p>\n",
       "</div>"
      ],
      "text/plain": [
       "       temperature  humidity  pressure       weather    Wind_x    Wind_y\n",
       "0       291.870000      88.0    1013.0          mist  0.000000  0.000000\n",
       "1       291.870000      88.0    1013.0          mist  0.000000  0.000000\n",
       "2       291.868186      88.0    1013.0  sky is clear  0.000000  0.000000\n",
       "3       291.862844      88.0    1013.0  sky is clear  0.000000  0.000000\n",
       "4       291.857503      88.0    1013.0  sky is clear  0.000000  0.000000\n",
       "...            ...       ...       ...           ...       ...       ...\n",
       "45008   295.440000      17.0    1017.0  sky is clear  0.965926 -0.258819\n",
       "45009   296.020000      16.0    1016.0  sky is clear  0.965926 -0.258819\n",
       "45010   296.510000      17.0    1015.0  sky is clear  0.965926 -0.258819\n",
       "45011   297.090000      17.0    1014.0  sky is clear  0.000000 -0.000000\n",
       "45012   296.690000      25.0    1014.0  sky is clear  2.000000  0.000000\n",
       "\n",
       "[45013 rows x 6 columns]"
      ]
     },
     "execution_count": 16,
     "metadata": {},
     "output_type": "execute_result"
    }
   ],
   "source": [
    "trainval"
   ]
  },
  {
   "cell_type": "code",
   "execution_count": 17,
   "id": "concerned-belfast",
   "metadata": {},
   "outputs": [
    {
     "data": {
      "text/plain": [
       "(-11.0, 13.0, -15.974774553360445, 10.724622203665692)"
      ]
     },
     "execution_count": 17,
     "metadata": {},
     "output_type": "execute_result"
    },
    {
     "data": {
      "image/png": "[encoded data removed]",
      "text/plain": [
       "<Figure size 432x288 with 2 Axes>"
      ]
     },
     "metadata": {
      "needs_background": "light"
     },
     "output_type": "display_data"
    }
   ],
   "source": [
    "#plotting the x and y components of wind vector train set\n",
    "plt.hist2d(trainval['Wind_x'], trainval['Wind_y'], bins=(50, 50), vmax=400)\n",
    "plt.colorbar()\n",
    "plt.xlabel('Wind X')\n",
    "plt.ylabel('Wind Y')\n",
    "ax = plt.gca()\n",
    "ax.axis('tight')"
   ]
  },
  {
   "cell_type": "code",
   "execution_count": 18,
   "id": "reliable-commission",
   "metadata": {},
   "outputs": [],
   "source": [
    "#converting train set and test set date time to sin and cos components for periodicity\n",
    "timestamp_h = date_time.map(datetime.datetime.timestamp)/3600"
   ]
  },
  {
   "cell_type": "code",
   "execution_count": 19,
   "id": "respective-bottom",
   "metadata": {},
   "outputs": [],
   "source": [
    "day = 24\n",
    "year = (365.2425)*day\n",
    "\n",
    "trainval['Day sin'] = np.sin(timestamp_h * (2 * np.pi / day))\n",
    "trainval['Day cos'] = np.cos(timestamp_h * (2 * np.pi / day))\n",
    "trainval['Year sin'] = np.sin(timestamp_h * (2 * np.pi / year))\n",
    "trainval['Year cos'] = np.cos(timestamp_h * (2 * np.pi / year))"
   ]
  },
  {
   "cell_type": "code",
   "execution_count": 20,
   "id": "olympic-algebra",
   "metadata": {},
   "outputs": [],
   "source": [
    "timestamp_h_test = date_time_test.map(datetime.datetime.timestamp)/3600"
   ]
  },
  {
   "cell_type": "code",
   "execution_count": 21,
   "id": "modern-opportunity",
   "metadata": {},
   "outputs": [],
   "source": [
    "test['Day sin'] = np.sin(timestamp_h_test * (2 * np.pi / day))\n",
    "test['Day cos'] = np.cos(timestamp_h_test * (2 * np.pi / day))\n",
    "test['Year sin'] = np.sin(timestamp_h_test * (2 * np.pi / year))\n",
    "test['Year cos'] = np.cos(timestamp_h_test * (2 * np.pi / year))"
   ]
  },
  {
   "cell_type": "code",
   "execution_count": 22,
   "id": "equivalent-offset",
   "metadata": {},
   "outputs": [
    {
     "data": {
      "text/plain": [
       "Text(0.5, 1.0, 'Time of day signal')"
      ]
     },
     "execution_count": 22,
     "metadata": {},
     "output_type": "execute_result"
    },
    {
     "data": {
      "image/png": "[encoded data removed]",
      "text/plain": [
       "<Figure size 432x288 with 1 Axes>"
      ]
     },
     "metadata": {
      "needs_background": "light"
     },
     "output_type": "display_data"
    }
   ],
   "source": [
    "#plotting time signal for train set\n",
    "plt.plot(np.array(trainval['Day sin'])[:25])\n",
    "plt.plot(np.array(trainval['Day cos'])[:25])\n",
    "plt.xlabel('Time [h]')\n",
    "plt.title('Time of day signal')"
   ]
  },
  {
   "cell_type": "code",
   "execution_count": 23,
   "id": "round-opera",
   "metadata": {},
   "outputs": [
    {
     "data": {
      "text/html": [
       "<div>\n",
       "<style scoped>\n",
       "    .dataframe tbody tr th:only-of-type {\n",
       "        vertical-align: middle;\n",
       "    }\n",
       "\n",
       "    .dataframe tbody tr th {\n",
       "        vertical-align: top;\n",
       "    }\n",
       "\n",
       "    .dataframe thead th {\n",
       "        text-align: right;\n",
       "    }\n",
       "</style>\n",
       "<table border=\"1\" class=\"dataframe\">\n",
       "  <thead>\n",
       "    <tr style=\"text-align: right;\">\n",
       "      <th></th>\n",
       "      <th>temperature</th>\n",
       "      <th>humidity</th>\n",
       "      <th>pressure</th>\n",
       "      <th>weather</th>\n",
       "      <th>Wind_x</th>\n",
       "      <th>Wind_y</th>\n",
       "      <th>Day sin</th>\n",
       "      <th>Day cos</th>\n",
       "      <th>Year sin</th>\n",
       "      <th>Year cos</th>\n",
       "    </tr>\n",
       "  </thead>\n",
       "  <tbody>\n",
       "    <tr>\n",
       "      <th>0</th>\n",
       "      <td>291.870000</td>\n",
       "      <td>88.0</td>\n",
       "      <td>1013.0</td>\n",
       "      <td>mist</td>\n",
       "      <td>0.000000</td>\n",
       "      <td>0.000000</td>\n",
       "      <td>-0.965926</td>\n",
       "      <td>2.588190e-01</td>\n",
       "      <td>-0.999933</td>\n",
       "      <td>0.011608</td>\n",
       "    </tr>\n",
       "    <tr>\n",
       "      <th>1</th>\n",
       "      <td>291.870000</td>\n",
       "      <td>88.0</td>\n",
       "      <td>1013.0</td>\n",
       "      <td>mist</td>\n",
       "      <td>0.000000</td>\n",
       "      <td>0.000000</td>\n",
       "      <td>-0.866025</td>\n",
       "      <td>5.000000e-01</td>\n",
       "      <td>-0.999924</td>\n",
       "      <td>0.012325</td>\n",
       "    </tr>\n",
       "    <tr>\n",
       "      <th>2</th>\n",
       "      <td>291.868186</td>\n",
       "      <td>88.0</td>\n",
       "      <td>1013.0</td>\n",
       "      <td>sky is clear</td>\n",
       "      <td>0.000000</td>\n",
       "      <td>0.000000</td>\n",
       "      <td>-0.707107</td>\n",
       "      <td>7.071068e-01</td>\n",
       "      <td>-0.999915</td>\n",
       "      <td>0.013041</td>\n",
       "    </tr>\n",
       "    <tr>\n",
       "      <th>3</th>\n",
       "      <td>291.862844</td>\n",
       "      <td>88.0</td>\n",
       "      <td>1013.0</td>\n",
       "      <td>sky is clear</td>\n",
       "      <td>0.000000</td>\n",
       "      <td>0.000000</td>\n",
       "      <td>-0.500000</td>\n",
       "      <td>8.660254e-01</td>\n",
       "      <td>-0.999905</td>\n",
       "      <td>0.013758</td>\n",
       "    </tr>\n",
       "    <tr>\n",
       "      <th>4</th>\n",
       "      <td>291.857503</td>\n",
       "      <td>88.0</td>\n",
       "      <td>1013.0</td>\n",
       "      <td>sky is clear</td>\n",
       "      <td>0.000000</td>\n",
       "      <td>0.000000</td>\n",
       "      <td>-0.258819</td>\n",
       "      <td>9.659258e-01</td>\n",
       "      <td>-0.999895</td>\n",
       "      <td>0.014475</td>\n",
       "    </tr>\n",
       "    <tr>\n",
       "      <th>...</th>\n",
       "      <td>...</td>\n",
       "      <td>...</td>\n",
       "      <td>...</td>\n",
       "      <td>...</td>\n",
       "      <td>...</td>\n",
       "      <td>...</td>\n",
       "      <td>...</td>\n",
       "      <td>...</td>\n",
       "      <td>...</td>\n",
       "      <td>...</td>\n",
       "    </tr>\n",
       "    <tr>\n",
       "      <th>45008</th>\n",
       "      <td>295.440000</td>\n",
       "      <td>17.0</td>\n",
       "      <td>1017.0</td>\n",
       "      <td>sky is clear</td>\n",
       "      <td>0.965926</td>\n",
       "      <td>-0.258819</td>\n",
       "      <td>0.866025</td>\n",
       "      <td>5.000000e-01</td>\n",
       "      <td>-0.654451</td>\n",
       "      <td>0.756104</td>\n",
       "    </tr>\n",
       "    <tr>\n",
       "      <th>45009</th>\n",
       "      <td>296.020000</td>\n",
       "      <td>16.0</td>\n",
       "      <td>1016.0</td>\n",
       "      <td>sky is clear</td>\n",
       "      <td>0.965926</td>\n",
       "      <td>-0.258819</td>\n",
       "      <td>0.965926</td>\n",
       "      <td>2.588190e-01</td>\n",
       "      <td>-0.653909</td>\n",
       "      <td>0.756573</td>\n",
       "    </tr>\n",
       "    <tr>\n",
       "      <th>45010</th>\n",
       "      <td>296.510000</td>\n",
       "      <td>17.0</td>\n",
       "      <td>1015.0</td>\n",
       "      <td>sky is clear</td>\n",
       "      <td>0.965926</td>\n",
       "      <td>-0.258819</td>\n",
       "      <td>1.000000</td>\n",
       "      <td>1.086883e-11</td>\n",
       "      <td>-0.653367</td>\n",
       "      <td>0.757042</td>\n",
       "    </tr>\n",
       "    <tr>\n",
       "      <th>45011</th>\n",
       "      <td>297.090000</td>\n",
       "      <td>17.0</td>\n",
       "      <td>1014.0</td>\n",
       "      <td>sky is clear</td>\n",
       "      <td>0.000000</td>\n",
       "      <td>-0.000000</td>\n",
       "      <td>0.965926</td>\n",
       "      <td>-2.588190e-01</td>\n",
       "      <td>-0.652824</td>\n",
       "      <td>0.757510</td>\n",
       "    </tr>\n",
       "    <tr>\n",
       "      <th>45012</th>\n",
       "      <td>296.690000</td>\n",
       "      <td>25.0</td>\n",
       "      <td>1014.0</td>\n",
       "      <td>sky is clear</td>\n",
       "      <td>2.000000</td>\n",
       "      <td>0.000000</td>\n",
       "      <td>0.866025</td>\n",
       "      <td>-5.000000e-01</td>\n",
       "      <td>-0.652281</td>\n",
       "      <td>0.757978</td>\n",
       "    </tr>\n",
       "  </tbody>\n",
       "</table>\n",
       "<p>45013 rows × 10 columns</p>\n",
       "</div>"
      ],
      "text/plain": [
       "       temperature  humidity  pressure       weather    Wind_x    Wind_y  \\\n",
       "0       291.870000      88.0    1013.0          mist  0.000000  0.000000   \n",
       "1       291.870000      88.0    1013.0          mist  0.000000  0.000000   \n",
       "2       291.868186      88.0    1013.0  sky is clear  0.000000  0.000000   \n",
       "3       291.862844      88.0    1013.0  sky is clear  0.000000  0.000000   \n",
       "4       291.857503      88.0    1013.0  sky is clear  0.000000  0.000000   \n",
       "...            ...       ...       ...           ...       ...       ...   \n",
       "45008   295.440000      17.0    1017.0  sky is clear  0.965926 -0.258819   \n",
       "45009   296.020000      16.0    1016.0  sky is clear  0.965926 -0.258819   \n",
       "45010   296.510000      17.0    1015.0  sky is clear  0.965926 -0.258819   \n",
       "45011   297.090000      17.0    1014.0  sky is clear  0.000000 -0.000000   \n",
       "45012   296.690000      25.0    1014.0  sky is clear  2.000000  0.000000   \n",
       "\n",
       "        Day sin       Day cos  Year sin  Year cos  \n",
       "0     -0.965926  2.588190e-01 -0.999933  0.011608  \n",
       "1     -0.866025  5.000000e-01 -0.999924  0.012325  \n",
       "2     -0.707107  7.071068e-01 -0.999915  0.013041  \n",
       "3     -0.500000  8.660254e-01 -0.999905  0.013758  \n",
       "4     -0.258819  9.659258e-01 -0.999895  0.014475  \n",
       "...         ...           ...       ...       ...  \n",
       "45008  0.866025  5.000000e-01 -0.654451  0.756104  \n",
       "45009  0.965926  2.588190e-01 -0.653909  0.756573  \n",
       "45010  1.000000  1.086883e-11 -0.653367  0.757042  \n",
       "45011  0.965926 -2.588190e-01 -0.652824  0.757510  \n",
       "45012  0.866025 -5.000000e-01 -0.652281  0.757978  \n",
       "\n",
       "[45013 rows x 10 columns]"
      ]
     },
     "execution_count": 23,
     "metadata": {},
     "output_type": "execute_result"
    }
   ],
   "source": [
    "trainval"
   ]
  },
  {
   "cell_type": "code",
   "execution_count": 24,
   "id": "vulnerable-church",
   "metadata": {},
   "outputs": [],
   "source": [
    "# converting weather column for train set and test set into one hot vectors and concatenating datasets\n",
    "test1=pd.concat([trainval,test])"
   ]
  },
  {
   "cell_type": "code",
   "execution_count": 25,
   "id": "molecular-difference",
   "metadata": {},
   "outputs": [],
   "source": [
    "weather_onehot=pd.get_dummies(trainval.weather,prefix='weather')"
   ]
  },
  {
   "cell_type": "code",
   "execution_count": 26,
   "id": "mature-roads",
   "metadata": {},
   "outputs": [],
   "source": [
    "weather_onehot_test=pd.get_dummies(test1.weather,prefix='weather')"
   ]
  },
  {
   "cell_type": "code",
   "execution_count": 27,
   "id": "consolidated-shelf",
   "metadata": {},
   "outputs": [],
   "source": [
    "weather_onehot_test1=weather_onehot_test[-240:]"
   ]
  },
  {
   "cell_type": "code",
   "execution_count": 28,
   "id": "blind-navigation",
   "metadata": {},
   "outputs": [],
   "source": [
    "processed_data_trainval=pd.concat([trainval,weather_onehot],axis=1)"
   ]
  },
  {
   "cell_type": "code",
   "execution_count": 29,
   "id": "regional-wilson",
   "metadata": {},
   "outputs": [],
   "source": [
    "processed_data_test=pd.concat([test,weather_onehot_test1],axis=1)"
   ]
  },
  {
   "cell_type": "code",
   "execution_count": 30,
   "id": "coordinated-montreal",
   "metadata": {},
   "outputs": [
    {
     "data": {
      "text/plain": [
       "0      sky is clear\n",
       "1        light rain\n",
       "2      sky is clear\n",
       "3      sky is clear\n",
       "4      sky is clear\n",
       "           ...     \n",
       "235    sky is clear\n",
       "236    sky is clear\n",
       "237    sky is clear\n",
       "238    sky is clear\n",
       "239    sky is clear\n",
       "Name: weather, Length: 240, dtype: object"
      ]
     },
     "execution_count": 30,
     "metadata": {},
     "output_type": "execute_result"
    }
   ],
   "source": [
    "processed_data_trainval.pop('weather')\n",
    "processed_data_test.pop('weather')"
   ]
  },
  {
   "cell_type": "code",
   "execution_count": 31,
   "id": "oriented-aerospace",
   "metadata": {},
   "outputs": [
    {
     "data": {
      "text/plain": [
       "0                mist\n",
       "1                mist\n",
       "2        sky is clear\n",
       "3        sky is clear\n",
       "4        sky is clear\n",
       "             ...     \n",
       "45008    sky is clear\n",
       "45009    sky is clear\n",
       "45010    sky is clear\n",
       "45011    sky is clear\n",
       "45012    sky is clear\n",
       "Name: weather, Length: 45013, dtype: object"
      ]
     },
     "execution_count": 31,
     "metadata": {},
     "output_type": "execute_result"
    }
   ],
   "source": [
    "trainval.pop(\"weather\")"
   ]
  },
  {
   "cell_type": "code",
   "execution_count": 32,
   "id": "heated-groove",
   "metadata": {},
   "outputs": [
    {
     "data": {
      "text/plain": [
       "0      sky is clear\n",
       "1        light rain\n",
       "2      sky is clear\n",
       "3      sky is clear\n",
       "4      sky is clear\n",
       "           ...     \n",
       "235    sky is clear\n",
       "236    sky is clear\n",
       "237    sky is clear\n",
       "238    sky is clear\n",
       "239    sky is clear\n",
       "Name: weather, Length: 240, dtype: object"
      ]
     },
     "execution_count": 32,
     "metadata": {},
     "output_type": "execute_result"
    }
   ],
   "source": [
    "test.pop(\"weather\")"
   ]
  },
  {
   "cell_type": "code",
   "execution_count": 33,
   "id": "veterinary-phone",
   "metadata": {},
   "outputs": [
    {
     "data": {
      "text/html": [
       "<div>\n",
       "<style scoped>\n",
       "    .dataframe tbody tr th:only-of-type {\n",
       "        vertical-align: middle;\n",
       "    }\n",
       "\n",
       "    .dataframe tbody tr th {\n",
       "        vertical-align: top;\n",
       "    }\n",
       "\n",
       "    .dataframe thead th {\n",
       "        text-align: right;\n",
       "    }\n",
       "</style>\n",
       "<table border=\"1\" class=\"dataframe\">\n",
       "  <thead>\n",
       "    <tr style=\"text-align: right;\">\n",
       "      <th></th>\n",
       "      <th>temperature</th>\n",
       "      <th>humidity</th>\n",
       "      <th>pressure</th>\n",
       "      <th>Wind_x</th>\n",
       "      <th>Wind_y</th>\n",
       "      <th>Day sin</th>\n",
       "      <th>Day cos</th>\n",
       "      <th>Year sin</th>\n",
       "      <th>Year cos</th>\n",
       "      <th>weather_broken clouds</th>\n",
       "      <th>...</th>\n",
       "      <th>weather_scattered clouds</th>\n",
       "      <th>weather_shower rain</th>\n",
       "      <th>weather_sky is clear</th>\n",
       "      <th>weather_smoke</th>\n",
       "      <th>weather_squalls</th>\n",
       "      <th>weather_thunderstorm</th>\n",
       "      <th>weather_thunderstorm with heavy rain</th>\n",
       "      <th>weather_thunderstorm with light rain</th>\n",
       "      <th>weather_thunderstorm with rain</th>\n",
       "      <th>weather_very heavy rain</th>\n",
       "    </tr>\n",
       "  </thead>\n",
       "  <tbody>\n",
       "    <tr>\n",
       "      <th>0</th>\n",
       "      <td>295.72</td>\n",
       "      <td>26.0</td>\n",
       "      <td>1014.0</td>\n",
       "      <td>-3.673940e-16</td>\n",
       "      <td>-2.000000</td>\n",
       "      <td>7.071068e-01</td>\n",
       "      <td>-7.071068e-01</td>\n",
       "      <td>-0.651737</td>\n",
       "      <td>0.758445</td>\n",
       "      <td>0</td>\n",
       "      <td>...</td>\n",
       "      <td>0</td>\n",
       "      <td>0</td>\n",
       "      <td>1</td>\n",
       "      <td>0</td>\n",
       "      <td>0</td>\n",
       "      <td>0</td>\n",
       "      <td>0</td>\n",
       "      <td>0</td>\n",
       "      <td>0</td>\n",
       "      <td>0</td>\n",
       "    </tr>\n",
       "    <tr>\n",
       "      <th>1</th>\n",
       "      <td>292.97</td>\n",
       "      <td>30.0</td>\n",
       "      <td>1014.0</td>\n",
       "      <td>-3.472964e-01</td>\n",
       "      <td>-1.969616</td>\n",
       "      <td>5.000000e-01</td>\n",
       "      <td>-8.660254e-01</td>\n",
       "      <td>-0.651193</td>\n",
       "      <td>0.758912</td>\n",
       "      <td>0</td>\n",
       "      <td>...</td>\n",
       "      <td>0</td>\n",
       "      <td>0</td>\n",
       "      <td>0</td>\n",
       "      <td>0</td>\n",
       "      <td>0</td>\n",
       "      <td>0</td>\n",
       "      <td>0</td>\n",
       "      <td>0</td>\n",
       "      <td>0</td>\n",
       "      <td>0</td>\n",
       "    </tr>\n",
       "    <tr>\n",
       "      <th>2</th>\n",
       "      <td>290.71</td>\n",
       "      <td>25.0</td>\n",
       "      <td>1016.0</td>\n",
       "      <td>-1.836970e-16</td>\n",
       "      <td>-1.000000</td>\n",
       "      <td>2.588190e-01</td>\n",
       "      <td>-9.659258e-01</td>\n",
       "      <td>-0.650649</td>\n",
       "      <td>0.759378</td>\n",
       "      <td>0</td>\n",
       "      <td>...</td>\n",
       "      <td>0</td>\n",
       "      <td>0</td>\n",
       "      <td>1</td>\n",
       "      <td>0</td>\n",
       "      <td>0</td>\n",
       "      <td>0</td>\n",
       "      <td>0</td>\n",
       "      <td>0</td>\n",
       "      <td>0</td>\n",
       "      <td>0</td>\n",
       "    </tr>\n",
       "    <tr>\n",
       "      <th>3</th>\n",
       "      <td>290.09</td>\n",
       "      <td>72.0</td>\n",
       "      <td>1016.0</td>\n",
       "      <td>0.000000e+00</td>\n",
       "      <td>-0.000000</td>\n",
       "      <td>1.343217e-11</td>\n",
       "      <td>-1.000000e+00</td>\n",
       "      <td>-0.650105</td>\n",
       "      <td>0.759845</td>\n",
       "      <td>0</td>\n",
       "      <td>...</td>\n",
       "      <td>0</td>\n",
       "      <td>0</td>\n",
       "      <td>1</td>\n",
       "      <td>0</td>\n",
       "      <td>0</td>\n",
       "      <td>0</td>\n",
       "      <td>0</td>\n",
       "      <td>0</td>\n",
       "      <td>0</td>\n",
       "      <td>0</td>\n",
       "    </tr>\n",
       "    <tr>\n",
       "      <th>4</th>\n",
       "      <td>289.03</td>\n",
       "      <td>44.0</td>\n",
       "      <td>1016.0</td>\n",
       "      <td>8.910065e-01</td>\n",
       "      <td>0.453990</td>\n",
       "      <td>-2.588190e-01</td>\n",
       "      <td>-9.659258e-01</td>\n",
       "      <td>-0.649560</td>\n",
       "      <td>0.760310</td>\n",
       "      <td>0</td>\n",
       "      <td>...</td>\n",
       "      <td>0</td>\n",
       "      <td>0</td>\n",
       "      <td>1</td>\n",
       "      <td>0</td>\n",
       "      <td>0</td>\n",
       "      <td>0</td>\n",
       "      <td>0</td>\n",
       "      <td>0</td>\n",
       "      <td>0</td>\n",
       "      <td>0</td>\n",
       "    </tr>\n",
       "    <tr>\n",
       "      <th>...</th>\n",
       "      <td>...</td>\n",
       "      <td>...</td>\n",
       "      <td>...</td>\n",
       "      <td>...</td>\n",
       "      <td>...</td>\n",
       "      <td>...</td>\n",
       "      <td>...</td>\n",
       "      <td>...</td>\n",
       "      <td>...</td>\n",
       "      <td>...</td>\n",
       "      <td>...</td>\n",
       "      <td>...</td>\n",
       "      <td>...</td>\n",
       "      <td>...</td>\n",
       "      <td>...</td>\n",
       "      <td>...</td>\n",
       "      <td>...</td>\n",
       "      <td>...</td>\n",
       "      <td>...</td>\n",
       "      <td>...</td>\n",
       "      <td>...</td>\n",
       "    </tr>\n",
       "    <tr>\n",
       "      <th>235</th>\n",
       "      <td>?</td>\n",
       "      <td>24.0</td>\n",
       "      <td>1016.0</td>\n",
       "      <td>9.455186e-01</td>\n",
       "      <td>0.325568</td>\n",
       "      <td>8.660254e-01</td>\n",
       "      <td>5.000000e-01</td>\n",
       "      <td>-0.515361</td>\n",
       "      <td>0.856973</td>\n",
       "      <td>0</td>\n",
       "      <td>...</td>\n",
       "      <td>0</td>\n",
       "      <td>0</td>\n",
       "      <td>1</td>\n",
       "      <td>0</td>\n",
       "      <td>0</td>\n",
       "      <td>0</td>\n",
       "      <td>0</td>\n",
       "      <td>0</td>\n",
       "      <td>0</td>\n",
       "      <td>0</td>\n",
       "    </tr>\n",
       "    <tr>\n",
       "      <th>236</th>\n",
       "      <td>?</td>\n",
       "      <td>21.0</td>\n",
       "      <td>1016.0</td>\n",
       "      <td>9.455186e-01</td>\n",
       "      <td>0.325568</td>\n",
       "      <td>9.659258e-01</td>\n",
       "      <td>2.588190e-01</td>\n",
       "      <td>-0.514747</td>\n",
       "      <td>0.857342</td>\n",
       "      <td>0</td>\n",
       "      <td>...</td>\n",
       "      <td>0</td>\n",
       "      <td>0</td>\n",
       "      <td>1</td>\n",
       "      <td>0</td>\n",
       "      <td>0</td>\n",
       "      <td>0</td>\n",
       "      <td>0</td>\n",
       "      <td>0</td>\n",
       "      <td>0</td>\n",
       "      <td>0</td>\n",
       "    </tr>\n",
       "    <tr>\n",
       "      <th>237</th>\n",
       "      <td>?</td>\n",
       "      <td>23.0</td>\n",
       "      <td>1015.0</td>\n",
       "      <td>9.455186e-01</td>\n",
       "      <td>0.325568</td>\n",
       "      <td>1.000000e+00</td>\n",
       "      <td>1.153919e-11</td>\n",
       "      <td>-0.514132</td>\n",
       "      <td>0.857711</td>\n",
       "      <td>0</td>\n",
       "      <td>...</td>\n",
       "      <td>0</td>\n",
       "      <td>0</td>\n",
       "      <td>1</td>\n",
       "      <td>0</td>\n",
       "      <td>0</td>\n",
       "      <td>0</td>\n",
       "      <td>0</td>\n",
       "      <td>0</td>\n",
       "      <td>0</td>\n",
       "      <td>0</td>\n",
       "    </tr>\n",
       "    <tr>\n",
       "      <th>238</th>\n",
       "      <td>?</td>\n",
       "      <td>14.0</td>\n",
       "      <td>1016.0</td>\n",
       "      <td>-1.879385e+00</td>\n",
       "      <td>-0.684040</td>\n",
       "      <td>9.659258e-01</td>\n",
       "      <td>-2.588190e-01</td>\n",
       "      <td>-0.513517</td>\n",
       "      <td>0.858079</td>\n",
       "      <td>0</td>\n",
       "      <td>...</td>\n",
       "      <td>0</td>\n",
       "      <td>0</td>\n",
       "      <td>1</td>\n",
       "      <td>0</td>\n",
       "      <td>0</td>\n",
       "      <td>0</td>\n",
       "      <td>0</td>\n",
       "      <td>0</td>\n",
       "      <td>0</td>\n",
       "      <td>0</td>\n",
       "    </tr>\n",
       "    <tr>\n",
       "      <th>239</th>\n",
       "      <td>?</td>\n",
       "      <td>56.0</td>\n",
       "      <td>1015.0</td>\n",
       "      <td>-3.420201e-01</td>\n",
       "      <td>-0.939693</td>\n",
       "      <td>8.660254e-01</td>\n",
       "      <td>-5.000000e-01</td>\n",
       "      <td>-0.512902</td>\n",
       "      <td>0.858447</td>\n",
       "      <td>0</td>\n",
       "      <td>...</td>\n",
       "      <td>0</td>\n",
       "      <td>0</td>\n",
       "      <td>1</td>\n",
       "      <td>0</td>\n",
       "      <td>0</td>\n",
       "      <td>0</td>\n",
       "      <td>0</td>\n",
       "      <td>0</td>\n",
       "      <td>0</td>\n",
       "      <td>0</td>\n",
       "    </tr>\n",
       "  </tbody>\n",
       "</table>\n",
       "<p>240 rows × 34 columns</p>\n",
       "</div>"
      ],
      "text/plain": [
       "    temperature  humidity  pressure        Wind_x    Wind_y       Day sin  \\\n",
       "0        295.72      26.0    1014.0 -3.673940e-16 -2.000000  7.071068e-01   \n",
       "1        292.97      30.0    1014.0 -3.472964e-01 -1.969616  5.000000e-01   \n",
       "2        290.71      25.0    1016.0 -1.836970e-16 -1.000000  2.588190e-01   \n",
       "3        290.09      72.0    1016.0  0.000000e+00 -0.000000  1.343217e-11   \n",
       "4        289.03      44.0    1016.0  8.910065e-01  0.453990 -2.588190e-01   \n",
       "..          ...       ...       ...           ...       ...           ...   \n",
       "235           ?      24.0    1016.0  9.455186e-01  0.325568  8.660254e-01   \n",
       "236           ?      21.0    1016.0  9.455186e-01  0.325568  9.659258e-01   \n",
       "237           ?      23.0    1015.0  9.455186e-01  0.325568  1.000000e+00   \n",
       "238           ?      14.0    1016.0 -1.879385e+00 -0.684040  9.659258e-01   \n",
       "239           ?      56.0    1015.0 -3.420201e-01 -0.939693  8.660254e-01   \n",
       "\n",
       "          Day cos  Year sin  Year cos  weather_broken clouds  ...  \\\n",
       "0   -7.071068e-01 -0.651737  0.758445                      0  ...   \n",
       "1   -8.660254e-01 -0.651193  0.758912                      0  ...   \n",
       "2   -9.659258e-01 -0.650649  0.759378                      0  ...   \n",
       "3   -1.000000e+00 -0.650105  0.759845                      0  ...   \n",
       "4   -9.659258e-01 -0.649560  0.760310                      0  ...   \n",
       "..            ...       ...       ...                    ...  ...   \n",
       "235  5.000000e-01 -0.515361  0.856973                      0  ...   \n",
       "236  2.588190e-01 -0.514747  0.857342                      0  ...   \n",
       "237  1.153919e-11 -0.514132  0.857711                      0  ...   \n",
       "238 -2.588190e-01 -0.513517  0.858079                      0  ...   \n",
       "239 -5.000000e-01 -0.512902  0.858447                      0  ...   \n",
       "\n",
       "     weather_scattered clouds  weather_shower rain  weather_sky is clear  \\\n",
       "0                           0                    0                     1   \n",
       "1                           0                    0                     0   \n",
       "2                           0                    0                     1   \n",
       "3                           0                    0                     1   \n",
       "4                           0                    0                     1   \n",
       "..                        ...                  ...                   ...   \n",
       "235                         0                    0                     1   \n",
       "236                         0                    0                     1   \n",
       "237                         0                    0                     1   \n",
       "238                         0                    0                     1   \n",
       "239                         0                    0                     1   \n",
       "\n",
       "     weather_smoke  weather_squalls  weather_thunderstorm  \\\n",
       "0                0                0                     0   \n",
       "1                0                0                     0   \n",
       "2                0                0                     0   \n",
       "3                0                0                     0   \n",
       "4                0                0                     0   \n",
       "..             ...              ...                   ...   \n",
       "235              0                0                     0   \n",
       "236              0                0                     0   \n",
       "237              0                0                     0   \n",
       "238              0                0                     0   \n",
       "239              0                0                     0   \n",
       "\n",
       "     weather_thunderstorm with heavy rain  \\\n",
       "0                                       0   \n",
       "1                                       0   \n",
       "2                                       0   \n",
       "3                                       0   \n",
       "4                                       0   \n",
       "..                                    ...   \n",
       "235                                     0   \n",
       "236                                     0   \n",
       "237                                     0   \n",
       "238                                     0   \n",
       "239                                     0   \n",
       "\n",
       "     weather_thunderstorm with light rain  weather_thunderstorm with rain  \\\n",
       "0                                       0                               0   \n",
       "1                                       0                               0   \n",
       "2                                       0                               0   \n",
       "3                                       0                               0   \n",
       "4                                       0                               0   \n",
       "..                                    ...                             ...   \n",
       "235                                     0                               0   \n",
       "236                                     0                               0   \n",
       "237                                     0                               0   \n",
       "238                                     0                               0   \n",
       "239                                     0                               0   \n",
       "\n",
       "     weather_very heavy rain  \n",
       "0                          0  \n",
       "1                          0  \n",
       "2                          0  \n",
       "3                          0  \n",
       "4                          0  \n",
       "..                       ...  \n",
       "235                        0  \n",
       "236                        0  \n",
       "237                        0  \n",
       "238                        0  \n",
       "239                        0  \n",
       "\n",
       "[240 rows x 34 columns]"
      ]
     },
     "execution_count": 33,
     "metadata": {},
     "output_type": "execute_result"
    }
   ],
   "source": [
    "processed_data_test"
   ]
  },
  {
   "cell_type": "code",
   "execution_count": 34,
   "id": "incorrect-division",
   "metadata": {},
   "outputs": [],
   "source": [
    "#dividing train set into train, validation and test set\n",
    "column_indices = {name: i for i, name in enumerate(processed_data_trainval.columns)}\n",
    "\n",
    "n = len(trainval)\n",
    "train_df = trainval[0:int(n*0.7)]\n",
    "val_df = trainval[int(n*0.7):int(n*0.9)]\n",
    "test_df = trainval[int(n*0.9):]\n",
    "weather_onehot_train=weather_onehot[0:int(n*0.7)]\n",
    "weather_onehot_val=weather_onehot[int(n*0.7):int(n*0.9)]\n",
    "weather_onehot_test=weather_onehot[int(n*0.9):]\n",
    "num_features = processed_data_trainval.shape[1]"
   ]
  },
  {
   "cell_type": "code",
   "execution_count": 35,
   "id": "changed-religious",
   "metadata": {},
   "outputs": [],
   "source": [
    "#normalizing train, validation and test set\n",
    "train_mean = train_df.mean()\n",
    "train_std = train_df.std()\n",
    "\n",
    "train_df = (train_df - train_mean) / train_std\n",
    "val_df = (val_df - train_mean) / train_std\n"
   ]
  },
  {
   "cell_type": "code",
   "execution_count": 36,
   "id": "cordless-planning",
   "metadata": {},
   "outputs": [],
   "source": [
    "test_mean=test_df.mean()\n",
    "test_std=test_df.std()\n",
    "\n",
    "test_df=(test_df-train_mean)/train_std"
   ]
  },
  {
   "cell_type": "code",
   "execution_count": 37,
   "id": "operational-lawsuit",
   "metadata": {},
   "outputs": [],
   "source": [
    "final_train_data=pd.concat([train_df,weather_onehot_train],axis=1)\n",
    "final_val_data=pd.concat([val_df,weather_onehot_val],axis=1)"
   ]
  },
  {
   "cell_type": "code",
   "execution_count": 38,
   "id": "conditional-westminster",
   "metadata": {},
   "outputs": [],
   "source": [
    "final_test_data=pd.concat([test_df,weather_onehot_test],axis=1)"
   ]
  },
  {
   "cell_type": "markdown",
   "id": "automated-charles",
   "metadata": {},
   "source": [
    "# Windowing "
   ]
  },
  {
   "cell_type": "code",
   "execution_count": 39,
   "id": "eight-diamond",
   "metadata": {},
   "outputs": [],
   "source": [
    "#making train, validation and test datasets with windows of 24 hours, 72 hours and 120 hours input width for single step models\n",
    "def make_dataset(data,window_size):\n",
    "    input_window=[]\n",
    "    labels=[]\n",
    "    for i in range(len(data)-window_size):\n",
    "        input_window.append(data.iloc[i:i+window_size])\n",
    "        labels.append(data['temperature'].iloc[i+window_size])\n",
    "    return np.array(input_window),np.array(labels)"
   ]
  },
  {
   "cell_type": "code",
   "execution_count": 40,
   "id": "scientific-referral",
   "metadata": {},
   "outputs": [],
   "source": [
    "train_window24, train_labels24 = make_dataset(final_train_data,24)\n",
    "val_window24,val_labels24 = make_dataset(final_val_data,24)\n",
    "test_window24,test_labels24 = make_dataset(final_test_data,24)\n",
    "\n",
    "train_window72, train_labels72 = make_dataset(final_train_data,72)\n",
    "val_window72,val_labels72 = make_dataset(final_val_data,72)\n",
    "test_window72,test_labels72 = make_dataset(final_test_data,72)\n",
    "\n",
    "train_window120, train_labels120 = make_dataset(final_train_data,120)\n",
    "val_window120,val_labels120 = make_dataset(final_val_data,120)\n",
    "test_window120,test_labels120 = make_dataset(final_test_data,120)"
   ]
  },
  {
   "cell_type": "code",
   "execution_count": 41,
   "id": "graphic-orleans",
   "metadata": {},
   "outputs": [
    {
     "name": "stdout",
     "output_type": "stream",
     "text": [
      "(31485, 24, 34) (31485,)\n"
     ]
    }
   ],
   "source": [
    "print(train_window24.shape,train_labels24.shape)"
   ]
  },
  {
   "cell_type": "markdown",
   "id": "former-engineering",
   "metadata": {},
   "source": [
    "# Training Single step models"
   ]
  },
  {
   "cell_type": "markdown",
   "id": "failing-thumb",
   "metadata": {},
   "source": [
    "### Baseline - repeat last time step value"
   ]
  },
  {
   "cell_type": "code",
   "execution_count": 42,
   "id": "patent-steel",
   "metadata": {},
   "outputs": [],
   "source": [
    "#baseline model for single step models\n",
    "def baseline(data):\n",
    "    return data[:,-1,0]"
   ]
  },
  {
   "cell_type": "code",
   "execution_count": 43,
   "id": "liberal-african",
   "metadata": {},
   "outputs": [],
   "source": [
    "#mean absolute errors for different window models\n",
    "baseline_test24 = mean_absolute_error(baseline(test_window24),test_labels24)\n",
    "baseline_test72 = mean_absolute_error(baseline(test_window72),test_labels72)\n",
    "baseline_test120 = mean_absolute_error(baseline(test_window120),test_labels120)"
   ]
  },
  {
   "cell_type": "markdown",
   "id": "studied-child",
   "metadata": {},
   "source": [
    "#### Evaluating baseline model"
   ]
  },
  {
   "cell_type": "code",
   "execution_count": 44,
   "id": "sharp-bangladesh",
   "metadata": {},
   "outputs": [
    {
     "data": {
      "text/plain": [
       "(0.1316972100314578, 0.1319697321342819, 0.13142991934954829)"
      ]
     },
     "execution_count": 44,
     "metadata": {},
     "output_type": "execute_result"
    }
   ],
   "source": [
    "baseline_test24,baseline_test72,baseline_test120"
   ]
  },
  {
   "cell_type": "markdown",
   "id": "adult-studio",
   "metadata": {},
   "source": [
    "### Linear model "
   ]
  },
  {
   "cell_type": "code",
   "execution_count": 45,
   "id": "wound-capability",
   "metadata": {},
   "outputs": [],
   "source": [
    "linear = tf.keras.Sequential([\n",
    "    tf.keras.layers.Dense(units=1)\n",
    "])"
   ]
  },
  {
   "cell_type": "code",
   "execution_count": 46,
   "id": "devoted-bunny",
   "metadata": {},
   "outputs": [],
   "source": [
    "#function for compiling and fitting models for windows of 24,72 and 120 hours\n",
    "def compile_and_fit(model):\n",
    "    model.compile(loss=tf.losses.MeanSquaredError(),metrics=[tf.metrics.MeanAbsoluteError()])\n",
    "    early_stopping = tf.keras.callbacks.EarlyStopping(monitor='val_loss',patience=2, mode='min')\n",
    "    \n",
    "    print('Training Model 1...')\n",
    "    history24 = model.fit(train_window24,train_labels24,validation_data=(val_window24,val_labels24),\n",
    "                          callbacks=[early_stopping],epochs=20)\n",
    "    \n",
    "    print('Training Model 2...')\n",
    "    \n",
    "    history72 = model.fit(train_window72,train_labels72,validation_data=(val_window72,val_labels72),\n",
    "                          callbacks=[early_stopping],epochs=20)\n",
    "    \n",
    "    print('Training Model 3...')\n",
    "    \n",
    "    history120 = model.fit(train_window120,train_labels120,validation_data=(val_window120,val_labels120),\n",
    "                          callbacks=[early_stopping],epochs=20)\n",
    "    \n",
    "    return history24,history72,history120"
   ]
  },
  {
   "cell_type": "code",
   "execution_count": 47,
   "id": "formal-participant",
   "metadata": {},
   "outputs": [
    {
     "name": "stdout",
     "output_type": "stream",
     "text": [
      "Training Model 1...\n",
      "Epoch 1/20\n",
      "984/984 [==============================] - 2s 1ms/step - loss: 0.6952 - mean_absolute_error: 0.6649 - val_loss: 0.5385 - val_mean_absolute_error: 0.5931\n",
      "Epoch 2/20\n",
      "984/984 [==============================] - 1s 595us/step - loss: 0.5029 - mean_absolute_error: 0.5788 - val_loss: 0.5198 - val_mean_absolute_error: 0.5859\n",
      "Epoch 3/20\n",
      "984/984 [==============================] - 1s 600us/step - loss: 0.4996 - mean_absolute_error: 0.5782 - val_loss: 0.5163 - val_mean_absolute_error: 0.5836\n",
      "Epoch 4/20\n",
      "984/984 [==============================] - 1s 606us/step - loss: 0.4920 - mean_absolute_error: 0.5730 - val_loss: 0.5215 - val_mean_absolute_error: 0.5874\n",
      "Epoch 5/20\n",
      "984/984 [==============================] - 1s 604us/step - loss: 0.5050 - mean_absolute_error: 0.5807 - val_loss: 0.5204 - val_mean_absolute_error: 0.5867\n",
      "Training Model 2...\n",
      "Epoch 1/20\n",
      "983/983 [==============================] - 2s 2ms/step - loss: 0.5568 - mean_absolute_error: 0.6027 - val_loss: 0.5713 - val_mean_absolute_error: 0.6092\n",
      "Epoch 2/20\n",
      "983/983 [==============================] - 1s 1ms/step - loss: 0.5556 - mean_absolute_error: 0.6023 - val_loss: 0.5693 - val_mean_absolute_error: 0.6052\n",
      "Epoch 3/20\n",
      "983/983 [==============================] - 1s 1ms/step - loss: 0.5554 - mean_absolute_error: 0.6017 - val_loss: 0.5730 - val_mean_absolute_error: 0.6091\n",
      "Epoch 4/20\n",
      "983/983 [==============================] - 1s 1ms/step - loss: 0.5556 - mean_absolute_error: 0.6019 - val_loss: 0.5682 - val_mean_absolute_error: 0.6068\n",
      "Epoch 5/20\n",
      "983/983 [==============================] - 1s 1ms/step - loss: 0.5553 - mean_absolute_error: 0.6019 - val_loss: 0.5690 - val_mean_absolute_error: 0.6047\n",
      "Epoch 6/20\n",
      "983/983 [==============================] - 1s 1ms/step - loss: 0.5556 - mean_absolute_error: 0.6018 - val_loss: 0.5703 - val_mean_absolute_error: 0.6075\n",
      "Training Model 3...\n",
      "Epoch 1/20\n",
      "981/981 [==============================] - 2s 2ms/step - loss: 0.5931 - mean_absolute_error: 0.6176 - val_loss: 0.6006 - val_mean_absolute_error: 0.6198\n",
      "Epoch 2/20\n",
      "981/981 [==============================] - 1s 1ms/step - loss: 0.5923 - mean_absolute_error: 0.6170 - val_loss: 0.6065 - val_mean_absolute_error: 0.6229\n",
      "Epoch 3/20\n",
      "981/981 [==============================] - 2s 2ms/step - loss: 0.5923 - mean_absolute_error: 0.6171 - val_loss: 0.6016 - val_mean_absolute_error: 0.6197\n"
     ]
    }
   ],
   "source": [
    "linear_history24,linear_history72,linear_history120 = compile_and_fit(linear)"
   ]
  },
  {
   "cell_type": "markdown",
   "id": "nuclear-testament",
   "metadata": {},
   "source": [
    "#### Evaluating linear model"
   ]
  },
  {
   "cell_type": "code",
   "execution_count": 48,
   "id": "quick-newfoundland",
   "metadata": {},
   "outputs": [
    {
     "name": "stdout",
     "output_type": "stream",
     "text": [
      "140/140 - 0s - loss: 0.4144 - mean_absolute_error: 0.5185\n",
      "139/139 - 0s - loss: 0.4480 - mean_absolute_error: 0.5330\n",
      "137/137 - 0s - loss: 0.4693 - mean_absolute_error: 0.5424\n"
     ]
    }
   ],
   "source": [
    "linear_loss24,linear_test24 = linear.evaluate(test_window24,test_labels24,verbose=2)\n",
    "linear_loss72,linear_test72 = linear.evaluate(test_window72,test_labels72,verbose=2)\n",
    "linear_loss120,linear_test120 = linear.evaluate(test_window120,test_labels120,verbose=2)"
   ]
  },
  {
   "cell_type": "markdown",
   "id": "split-postcard",
   "metadata": {},
   "source": [
    "### Dense model"
   ]
  },
  {
   "cell_type": "code",
   "execution_count": 49,
   "id": "about-scholar",
   "metadata": {},
   "outputs": [],
   "source": [
    "dense_model = tf.keras.Sequential([\n",
    "    tf.keras.layers.Dense(units=50, activation='relu'),\n",
    "    tf.keras.layers.Dense(units=50, activation='relu'),\n",
    "    tf.keras.layers.Dense(units=1),\n",
    "])"
   ]
  },
  {
   "cell_type": "code",
   "execution_count": 50,
   "id": "still-million",
   "metadata": {},
   "outputs": [
    {
     "name": "stdout",
     "output_type": "stream",
     "text": [
      "Training Model 1...\n",
      "Epoch 1/20\n",
      "984/984 [==============================] - 6s 2ms/step - loss: 0.5301 - mean_absolute_error: 0.5913 - val_loss: 0.4981 - val_mean_absolute_error: 0.5710\n",
      "Epoch 2/20\n",
      "984/984 [==============================] - 1s 1ms/step - loss: 0.4772 - mean_absolute_error: 0.5679 - val_loss: 0.5049 - val_mean_absolute_error: 0.5804\n",
      "Epoch 3/20\n",
      "984/984 [==============================] - 1s 1ms/step - loss: 0.4665 - mean_absolute_error: 0.5614 - val_loss: 0.4961 - val_mean_absolute_error: 0.5741\n",
      "Epoch 4/20\n",
      "984/984 [==============================] - 1s 1ms/step - loss: 0.4772 - mean_absolute_error: 0.5686 - val_loss: 0.5171 - val_mean_absolute_error: 0.5862\n",
      "Epoch 5/20\n",
      "984/984 [==============================] - 1s 1ms/step - loss: 0.4676 - mean_absolute_error: 0.5629 - val_loss: 0.4956 - val_mean_absolute_error: 0.5657\n",
      "Epoch 6/20\n",
      "984/984 [==============================] - 1s 1ms/step - loss: 0.4664 - mean_absolute_error: 0.5623 - val_loss: 0.5009 - val_mean_absolute_error: 0.5747\n",
      "Epoch 7/20\n",
      "984/984 [==============================] - 1s 1ms/step - loss: 0.4641 - mean_absolute_error: 0.5603 - val_loss: 0.4976 - val_mean_absolute_error: 0.5671\n",
      "Training Model 2...\n",
      "Epoch 1/20\n",
      "983/983 [==============================] - 4s 3ms/step - loss: 0.5236 - mean_absolute_error: 0.5882 - val_loss: 0.5713 - val_mean_absolute_error: 0.6120\n",
      "Epoch 2/20\n",
      "983/983 [==============================] - 3s 3ms/step - loss: 0.5207 - mean_absolute_error: 0.5867 - val_loss: 0.5635 - val_mean_absolute_error: 0.5997\n",
      "Epoch 3/20\n",
      "983/983 [==============================] - 3s 3ms/step - loss: 0.5194 - mean_absolute_error: 0.5863 - val_loss: 0.5647 - val_mean_absolute_error: 0.5978\n",
      "Epoch 4/20\n",
      "983/983 [==============================] - 4s 4ms/step - loss: 0.5180 - mean_absolute_error: 0.5860 - val_loss: 0.5592 - val_mean_absolute_error: 0.6005\n",
      "Epoch 5/20\n",
      "983/983 [==============================] - 3s 3ms/step - loss: 0.5170 - mean_absolute_error: 0.5854 - val_loss: 0.5594 - val_mean_absolute_error: 0.6042\n",
      "Epoch 6/20\n",
      "983/983 [==============================] - 3s 3ms/step - loss: 0.5163 - mean_absolute_error: 0.5851 - val_loss: 0.5573 - val_mean_absolute_error: 0.6015\n",
      "Epoch 7/20\n",
      "983/983 [==============================] - 3s 3ms/step - loss: 0.5152 - mean_absolute_error: 0.5845 - val_loss: 0.5591 - val_mean_absolute_error: 0.6072\n",
      "Epoch 8/20\n",
      "983/983 [==============================] - 3s 3ms/step - loss: 0.5141 - mean_absolute_error: 0.5836 - val_loss: 0.5599 - val_mean_absolute_error: 0.5988\n",
      "Training Model 3...\n",
      "Epoch 1/20\n",
      "981/981 [==============================] - 4s 4ms/step - loss: 0.5513 - mean_absolute_error: 0.5998 - val_loss: 0.5969 - val_mean_absolute_error: 0.6233\n",
      "Epoch 2/20\n",
      "981/981 [==============================] - 3s 4ms/step - loss: 0.5485 - mean_absolute_error: 0.5991 - val_loss: 0.6020 - val_mean_absolute_error: 0.6202\n",
      "Epoch 3/20\n",
      "981/981 [==============================] - 3s 3ms/step - loss: 0.5475 - mean_absolute_error: 0.5987 - val_loss: 0.6008 - val_mean_absolute_error: 0.6166\n"
     ]
    }
   ],
   "source": [
    "dense_history24,dense_history72,dense_history120 = compile_and_fit(dense_model)"
   ]
  },
  {
   "cell_type": "markdown",
   "id": "ideal-scout",
   "metadata": {},
   "source": [
    "#### Evaluating dense model"
   ]
  },
  {
   "cell_type": "code",
   "execution_count": 51,
   "id": "angry-steal",
   "metadata": {},
   "outputs": [
    {
     "name": "stdout",
     "output_type": "stream",
     "text": [
      "140/140 - 0s - loss: 0.4321 - mean_absolute_error: 0.5228\n",
      "139/139 - 0s - loss: 0.4589 - mean_absolute_error: 0.5345\n",
      "137/137 - 0s - loss: 0.4739 - mean_absolute_error: 0.5409\n"
     ]
    }
   ],
   "source": [
    "dense_loss24,dense_test24 = dense_model.evaluate(test_window24,test_labels24,verbose=2)\n",
    "dense_loss72,dense_test72 = dense_model.evaluate(test_window72,test_labels72,verbose=2)\n",
    "dense_loss120,dense_test120 = dense_model.evaluate(test_window120,test_labels120,verbose=2)"
   ]
  },
  {
   "cell_type": "markdown",
   "id": "medical-forty",
   "metadata": {},
   "source": [
    "### RNN with LSTM"
   ]
  },
  {
   "cell_type": "code",
   "execution_count": 52,
   "id": "transparent-footwear",
   "metadata": {},
   "outputs": [],
   "source": [
    "lstm_model = tf.keras.models.Sequential([\n",
    "    \n",
    "    tf.keras.layers.LSTM(50, return_sequences=False),\n",
    "    \n",
    "    tf.keras.layers.Dense(units=1)\n",
    "])"
   ]
  },
  {
   "cell_type": "code",
   "execution_count": 53,
   "id": "actual-intake",
   "metadata": {},
   "outputs": [
    {
     "name": "stdout",
     "output_type": "stream",
     "text": [
      "Training Model 1...\n",
      "Epoch 1/20\n",
      "984/984 [==============================] - 34s 8ms/step - loss: 0.0923 - mean_absolute_error: 0.2024 - val_loss: 0.0401 - val_mean_absolute_error: 0.1216\n",
      "Epoch 2/20\n",
      "984/984 [==============================] - 8s 8ms/step - loss: 0.0322 - mean_absolute_error: 0.1233 - val_loss: 0.0340 - val_mean_absolute_error: 0.1138\n",
      "Epoch 3/20\n",
      "984/984 [==============================] - 7s 7ms/step - loss: 0.0313 - mean_absolute_error: 0.1179 - val_loss: 0.0320 - val_mean_absolute_error: 0.1071\n",
      "Epoch 4/20\n",
      "984/984 [==============================] - 8s 8ms/step - loss: 0.0286 - mean_absolute_error: 0.1125 - val_loss: 0.0315 - val_mean_absolute_error: 0.1019\n",
      "Epoch 5/20\n",
      "984/984 [==============================] - 7s 8ms/step - loss: 0.0270 - mean_absolute_error: 0.1076 - val_loss: 0.0348 - val_mean_absolute_error: 0.1099\n",
      "Epoch 6/20\n",
      "984/984 [==============================] - 8s 8ms/step - loss: 0.0266 - mean_absolute_error: 0.1059 - val_loss: 0.0318 - val_mean_absolute_error: 0.1026\n",
      "Training Model 2...\n",
      "Epoch 1/20\n",
      "983/983 [==============================] - 23s 21ms/step - loss: 0.0256 - mean_absolute_error: 0.1037 - val_loss: 0.0344 - val_mean_absolute_error: 0.1092\n",
      "Epoch 2/20\n",
      "983/983 [==============================] - 19s 19ms/step - loss: 0.0246 - mean_absolute_error: 0.1013 - val_loss: 0.0325 - val_mean_absolute_error: 0.1058\n",
      "Epoch 3/20\n",
      "983/983 [==============================] - 19s 19ms/step - loss: 0.0237 - mean_absolute_error: 0.0991 - val_loss: 0.0357 - val_mean_absolute_error: 0.1140\n",
      "Epoch 4/20\n",
      "983/983 [==============================] - 19s 20ms/step - loss: 0.0230 - mean_absolute_error: 0.0974 - val_loss: 0.0327 - val_mean_absolute_error: 0.1050\n",
      "Training Model 3...\n",
      "Epoch 1/20\n",
      "981/981 [==============================] - 54s 39ms/step - loss: 0.0222 - mean_absolute_error: 0.0958 - val_loss: 0.0334 - val_mean_absolute_error: 0.1046\n",
      "Epoch 2/20\n",
      "981/981 [==============================] - 31s 32ms/step - loss: 0.0216 - mean_absolute_error: 0.0937 - val_loss: 0.0329 - val_mean_absolute_error: 0.1034\n",
      "Epoch 3/20\n",
      "981/981 [==============================] - 30s 31ms/step - loss: 0.0209 - mean_absolute_error: 0.0923 - val_loss: 0.0335 - val_mean_absolute_error: 0.1050\n",
      "Epoch 4/20\n",
      "981/981 [==============================] - 30s 31ms/step - loss: 0.0204 - mean_absolute_error: 0.0908 - val_loss: 0.0367 - val_mean_absolute_error: 0.1117\n"
     ]
    },
    {
     "data": {
      "text/plain": [
       "(<tensorflow.python.keras.callbacks.History at 0x7f83e645c610>,\n",
       " <tensorflow.python.keras.callbacks.History at 0x7f83dd4cdbb0>,\n",
       " <tensorflow.python.keras.callbacks.History at 0x7f83d77b35b0>)"
      ]
     },
     "execution_count": 53,
     "metadata": {},
     "output_type": "execute_result"
    }
   ],
   "source": [
    "compile_and_fit(lstm_model)"
   ]
  },
  {
   "cell_type": "markdown",
   "id": "liquid-armstrong",
   "metadata": {},
   "source": [
    "#### Evaluating LSTM model"
   ]
  },
  {
   "cell_type": "code",
   "execution_count": 54,
   "id": "joined-accent",
   "metadata": {},
   "outputs": [
    {
     "name": "stdout",
     "output_type": "stream",
     "text": [
      "140/140 [==============================] - 0s 2ms/step - loss: 0.0124 - mean_absolute_error: 0.0781\n",
      "139/139 [==============================] - 1s 6ms/step - loss: 0.0121 - mean_absolute_error: 0.0772\n",
      "137/137 [==============================] - 1s 9ms/step - loss: 0.0121 - mean_absolute_error: 0.0772\n"
     ]
    }
   ],
   "source": [
    "lstm_loss24,lstm_test24 = lstm_model.evaluate(test_window24,test_labels24)\n",
    "lstm_loss72,lstm_test72 = lstm_model.evaluate(test_window72,test_labels72)\n",
    "lstm_loss120,lstm_test120 = lstm_model.evaluate(test_window120,test_labels120)"
   ]
  },
  {
   "cell_type": "markdown",
   "id": "nearby-perfume",
   "metadata": {},
   "source": [
    "# Performance of single step models"
   ]
  },
  {
   "cell_type": "code",
   "execution_count": 55,
   "id": "whole-literacy",
   "metadata": {},
   "outputs": [
    {
     "data": {
      "text/html": [
       "<div>\n",
       "<style scoped>\n",
       "    .dataframe tbody tr th:only-of-type {\n",
       "        vertical-align: middle;\n",
       "    }\n",
       "\n",
       "    .dataframe tbody tr th {\n",
       "        vertical-align: top;\n",
       "    }\n",
       "\n",
       "    .dataframe thead th {\n",
       "        text-align: right;\n",
       "    }\n",
       "</style>\n",
       "<table border=\"1\" class=\"dataframe\">\n",
       "  <thead>\n",
       "    <tr style=\"text-align: right;\">\n",
       "      <th></th>\n",
       "      <th>Window Size 24</th>\n",
       "      <th>Window Size 72</th>\n",
       "      <th>Window Size 120</th>\n",
       "    </tr>\n",
       "  </thead>\n",
       "  <tbody>\n",
       "    <tr>\n",
       "      <th>Baseline-Last Step</th>\n",
       "      <td>0.131697</td>\n",
       "      <td>0.131970</td>\n",
       "      <td>0.131430</td>\n",
       "    </tr>\n",
       "    <tr>\n",
       "      <th>Linear</th>\n",
       "      <td>0.518502</td>\n",
       "      <td>0.532973</td>\n",
       "      <td>0.542385</td>\n",
       "    </tr>\n",
       "    <tr>\n",
       "      <th>Dense</th>\n",
       "      <td>0.522813</td>\n",
       "      <td>0.534474</td>\n",
       "      <td>0.540890</td>\n",
       "    </tr>\n",
       "    <tr>\n",
       "      <th>RNN-LSTM</th>\n",
       "      <td>0.078137</td>\n",
       "      <td>0.077237</td>\n",
       "      <td>0.077184</td>\n",
       "    </tr>\n",
       "  </tbody>\n",
       "</table>\n",
       "</div>"
      ],
      "text/plain": [
       "                    Window Size 24  Window Size 72  Window Size 120\n",
       "Baseline-Last Step        0.131697        0.131970         0.131430\n",
       "Linear                    0.518502        0.532973         0.542385\n",
       "Dense                     0.522813        0.534474         0.540890\n",
       "RNN-LSTM                  0.078137        0.077237         0.077184"
      ]
     },
     "execution_count": 55,
     "metadata": {},
     "output_type": "execute_result"
    }
   ],
   "source": [
    "single_models = ['Baseline-Last Step','Linear','Dense','RNN-LSTM']\n",
    "cols = ['Window Size 24','Window Size 72','Window Size 120']\n",
    "mae24 = [baseline_test24,linear_test24,dense_test24,lstm_test24]\n",
    "mae72 = [baseline_test72,linear_test72,dense_test72,lstm_test72]\n",
    "mae120 = [baseline_test120,linear_test120,dense_test120,lstm_test120]\n",
    "\n",
    "singlestep = pd.DataFrame([mae24,mae72,mae120],index=cols,columns=single_models).transpose()\n",
    "singlestep"
   ]
  },
  {
   "cell_type": "markdown",
   "id": "widespread-loading",
   "metadata": {},
   "source": [
    "## Multi-step models"
   ]
  },
  {
   "cell_type": "code",
   "execution_count": 56,
   "id": "vocal-lightweight",
   "metadata": {},
   "outputs": [],
   "source": [
    "# making datasets for multistep models\n",
    "def make_dataset_multistep(data,window_size,label_length):\n",
    "    train_window = []\n",
    "    train_labels = []\n",
    "\n",
    "\n",
    "    for i in range(len(data)-window_size-label_length):\n",
    "        train_window.append(data.iloc[i:i+window_size])\n",
    "        train_labels.append(data['temperature'].iloc[i+window_size:i+label_length+window_size])\n",
    "    \n",
    "    return np.array(train_window),np.array(train_labels)"
   ]
  },
  {
   "cell_type": "code",
   "execution_count": 57,
   "id": "recreational-forum",
   "metadata": {},
   "outputs": [],
   "source": [
    "train_window24, train_labels24 = make_dataset_multistep(final_train_data,24,24)\n",
    "val_window24,val_labels24 = make_dataset_multistep(final_val_data,24,24)\n",
    "test_window24,test_labels24 = make_dataset_multistep(final_test_data,24,24)\n",
    "\n",
    "train_window120, train_labels120 = make_dataset_multistep(final_train_data,120,120)\n",
    "val_window120,val_labels120 = make_dataset_multistep(final_val_data,120,120)\n",
    "test_window120,test_labels120 = make_dataset_multistep(final_test_data,120,120)"
   ]
  },
  {
   "cell_type": "code",
   "execution_count": 58,
   "id": "racial-quarter",
   "metadata": {},
   "outputs": [
    {
     "data": {
      "text/plain": [
       "(31461, 24, 34)"
      ]
     },
     "execution_count": 58,
     "metadata": {},
     "output_type": "execute_result"
    }
   ],
   "source": [
    "train_window24.shape"
   ]
  },
  {
   "cell_type": "markdown",
   "id": "trying-chorus",
   "metadata": {},
   "source": [
    "### Baseline model  -repeat all values of input window as output"
   ]
  },
  {
   "cell_type": "code",
   "execution_count": 59,
   "id": "exciting-graduate",
   "metadata": {},
   "outputs": [],
   "source": [
    "def baseline_multi_step(data):\n",
    "    return data[:,:,0]"
   ]
  },
  {
   "cell_type": "markdown",
   "id": "fatal-friendly",
   "metadata": {},
   "source": [
    "#### Evaluating baseline model"
   ]
  },
  {
   "cell_type": "code",
   "execution_count": 60,
   "id": "amended-pattern",
   "metadata": {},
   "outputs": [],
   "source": [
    "baseline_test_multi24 = mean_absolute_error(baseline_multi_step(test_window24),test_labels24)\n",
    "baseline_test_multi120 = mean_absolute_error(baseline_multi_step(test_window120),test_labels120)"
   ]
  },
  {
   "cell_type": "code",
   "execution_count": 61,
   "id": "cosmetic-surrey",
   "metadata": {},
   "outputs": [
    {
     "data": {
      "text/plain": [
       "(0.21222614700557604, 0.43876940263045217)"
      ]
     },
     "execution_count": 61,
     "metadata": {},
     "output_type": "execute_result"
    }
   ],
   "source": [
    "baseline_test_multi24,baseline_test_multi120"
   ]
  },
  {
   "cell_type": "markdown",
   "id": "obvious-platform",
   "metadata": {},
   "source": [
    "### Linear model for predicting 24 and 120 hours into future"
   ]
  },
  {
   "cell_type": "code",
   "execution_count": 62,
   "id": "lovely-coalition",
   "metadata": {},
   "outputs": [],
   "source": [
    "multi_linear_model_24 = tf.keras.Sequential([\n",
    "    tf.keras.layers.Lambda(lambda x:x[:,-1:,:]),\n",
    "    tf.keras.layers.Dense(24,kernel_initializer=tf.initializers.zeros()),\n",
    "   \n",
    "])\n",
    "\n",
    "multi_linear_model_120 = tf.keras.Sequential([\n",
    "    tf.keras.layers.Lambda(lambda x:x[:,-1:,:]),\n",
    "    tf.keras.layers.Dense(120,kernel_initializer=tf.initializers.zeros()),\n",
    "    \n",
    "])\n"
   ]
  },
  {
   "cell_type": "code",
   "execution_count": 63,
   "id": "liberal-citizenship",
   "metadata": {},
   "outputs": [],
   "source": [
    "def compile_and_fit_multi_24(model):\n",
    "    model.compile(loss=tf.losses.MeanSquaredError(),metrics=[tf.metrics.MeanAbsoluteError()])\n",
    "    early_stopping = tf.keras.callbacks.EarlyStopping(monitor='val_loss',patience=2, mode='min')\n",
    "\n",
    "    history24 = model.fit(train_window24,train_labels24,validation_data=(val_window24,val_labels24),\n",
    "                          callbacks=[early_stopping],epochs=20)\n",
    "    \n",
    "    return history24"
   ]
  },
  {
   "cell_type": "code",
   "execution_count": 64,
   "id": "cooked-incidence",
   "metadata": {},
   "outputs": [],
   "source": [
    "def compile_and_fit_multi_120(model):\n",
    "    model.compile(loss=tf.losses.MeanSquaredError(),metrics=[tf.metrics.MeanAbsoluteError()])\n",
    "    early_stopping = tf.keras.callbacks.EarlyStopping(monitor='val_loss',patience=2, mode='min')\n",
    "    history120 = model.fit(train_window120,train_labels120,validation_data=(val_window120,val_labels120),\n",
    "                          callbacks=[early_stopping],epochs=20)\n",
    "    return history120"
   ]
  },
  {
   "cell_type": "code",
   "execution_count": 65,
   "id": "incomplete-semester",
   "metadata": {},
   "outputs": [
    {
     "name": "stdout",
     "output_type": "stream",
     "text": [
      "Epoch 1/20\n",
      "984/984 [==============================] - 1s 871us/step - loss: 0.9995 - mean_absolute_error: 0.8023 - val_loss: 0.9873 - val_mean_absolute_error: 0.7724\n",
      "Epoch 2/20\n",
      "984/984 [==============================] - 1s 709us/step - loss: 0.9988 - mean_absolute_error: 0.8016 - val_loss: 0.9648 - val_mean_absolute_error: 0.7662\n",
      "Epoch 3/20\n",
      "984/984 [==============================] - 1s 722us/step - loss: 0.9965 - mean_absolute_error: 0.8011 - val_loss: 0.9737 - val_mean_absolute_error: 0.7717\n",
      "Epoch 4/20\n",
      "984/984 [==============================] - 1s 712us/step - loss: 0.9977 - mean_absolute_error: 0.8015 - val_loss: 0.9786 - val_mean_absolute_error: 0.7702\n"
     ]
    }
   ],
   "source": [
    "linear_history24 = compile_and_fit_multi_24(multi_linear_model_24)"
   ]
  },
  {
   "cell_type": "code",
   "execution_count": 66,
   "id": "authentic-gasoline",
   "metadata": {},
   "outputs": [
    {
     "name": "stdout",
     "output_type": "stream",
     "text": [
      "Epoch 1/20\n",
      "978/978 [==============================] - 2s 2ms/step - loss: 1.0039 - mean_absolute_error: 0.8034 - val_loss: 1.0072 - val_mean_absolute_error: 0.7833\n",
      "Epoch 2/20\n",
      "978/978 [==============================] - 1s 1ms/step - loss: 0.9964 - mean_absolute_error: 0.8001 - val_loss: 1.0014 - val_mean_absolute_error: 0.7817\n",
      "Epoch 3/20\n",
      "978/978 [==============================] - 1s 1ms/step - loss: 0.9904 - mean_absolute_error: 0.7978 - val_loss: 0.9987 - val_mean_absolute_error: 0.7796\n",
      "Epoch 4/20\n",
      "978/978 [==============================] - 1s 1ms/step - loss: 1.0008 - mean_absolute_error: 0.8026 - val_loss: 1.0013 - val_mean_absolute_error: 0.7800\n",
      "Epoch 5/20\n",
      "978/978 [==============================] - 1s 1ms/step - loss: 1.0031 - mean_absolute_error: 0.8033 - val_loss: 0.9818 - val_mean_absolute_error: 0.7713\n",
      "Epoch 6/20\n",
      "978/978 [==============================] - 1s 1ms/step - loss: 1.0033 - mean_absolute_error: 0.8036 - val_loss: 1.0023 - val_mean_absolute_error: 0.7826\n",
      "Epoch 7/20\n",
      "978/978 [==============================] - 1s 1ms/step - loss: 1.0019 - mean_absolute_error: 0.8030 - val_loss: 1.0013 - val_mean_absolute_error: 0.7817\n"
     ]
    }
   ],
   "source": [
    "linear_history120 = compile_and_fit_multi_120(multi_linear_model_120)"
   ]
  },
  {
   "cell_type": "markdown",
   "id": "younger-hacker",
   "metadata": {},
   "source": [
    "#### Evaluating linear model"
   ]
  },
  {
   "cell_type": "code",
   "execution_count": 67,
   "id": "relative-theology",
   "metadata": {},
   "outputs": [
    {
     "name": "stdout",
     "output_type": "stream",
     "text": [
      "140/140 - 0s - loss: 1.0790 - mean_absolute_error: 0.8016\n",
      "134/134 - 0s - loss: 1.0972 - mean_absolute_error: 0.8100\n"
     ]
    }
   ],
   "source": [
    "linear_loss_multi24,linear_test_multi24 = multi_linear_model_24.evaluate(test_window24,test_labels24,verbose=2)\n",
    "linear_loss_multi120,linear_test_multi120 = multi_linear_model_120.evaluate(test_window120,test_labels120,verbose=2)"
   ]
  },
  {
   "cell_type": "markdown",
   "id": "preliminary-wesley",
   "metadata": {},
   "source": [
    "### RNN with LSTM model for predicting 24 and 120 hours into future"
   ]
  },
  {
   "cell_type": "code",
   "execution_count": 68,
   "id": "convertible-regard",
   "metadata": {},
   "outputs": [],
   "source": [
    "lstm_model_multi_24 = tf.keras.models.Sequential([\n",
    "   \n",
    "    tf.keras.layers.LSTM(50, return_sequences=False),\n",
    "   \n",
    "    tf.keras.layers.Dense(units=24)\n",
    "])\n",
    "\n",
    "lstm_model_multi_120 = tf.keras.models.Sequential([\n",
    "    \n",
    "    tf.keras.layers.LSTM(32, return_sequences=True),\n",
    "    tf.keras.layers.LSTM(32, return_sequences=False),\n",
    "  \n",
    "    tf.keras.layers.Dense(units=120)\n",
    "])\n"
   ]
  },
  {
   "cell_type": "code",
   "execution_count": 69,
   "id": "significant-jacob",
   "metadata": {},
   "outputs": [
    {
     "name": "stdout",
     "output_type": "stream",
     "text": [
      "Epoch 1/20\n",
      "984/984 [==============================] - 10s 8ms/step - loss: 0.2356 - mean_absolute_error: 0.3462 - val_loss: 0.1712 - val_mean_absolute_error: 0.2846\n",
      "Epoch 2/20\n",
      "984/984 [==============================] - 7s 7ms/step - loss: 0.0935 - mean_absolute_error: 0.2261 - val_loss: 0.1516 - val_mean_absolute_error: 0.2729\n",
      "Epoch 3/20\n",
      "984/984 [==============================] - 8s 8ms/step - loss: 0.0855 - mean_absolute_error: 0.2148 - val_loss: 0.1409 - val_mean_absolute_error: 0.2614\n",
      "Epoch 4/20\n",
      "984/984 [==============================] - 7s 7ms/step - loss: 0.0801 - mean_absolute_error: 0.2071 - val_loss: 0.1418 - val_mean_absolute_error: 0.2624\n",
      "Epoch 5/20\n",
      "984/984 [==============================] - 8s 8ms/step - loss: 0.0753 - mean_absolute_error: 0.2008 - val_loss: 0.1413 - val_mean_absolute_error: 0.2575\n"
     ]
    }
   ],
   "source": [
    "lstm_history_multi_24 = compile_and_fit_multi_24(lstm_model_multi_24)"
   ]
  },
  {
   "cell_type": "code",
   "execution_count": 70,
   "id": "established-norman",
   "metadata": {},
   "outputs": [
    {
     "name": "stdout",
     "output_type": "stream",
     "text": [
      "Epoch 1/20\n",
      "978/978 [==============================] - 59s 58ms/step - loss: 0.3822 - mean_absolute_error: 0.4656 - val_loss: 0.3021 - val_mean_absolute_error: 0.4100\n",
      "Epoch 2/20\n",
      "978/978 [==============================] - 54s 56ms/step - loss: 0.1757 - mean_absolute_error: 0.3159 - val_loss: 0.3522 - val_mean_absolute_error: 0.4383\n",
      "Epoch 3/20\n",
      "978/978 [==============================] - 53s 54ms/step - loss: 0.1472 - mean_absolute_error: 0.2885 - val_loss: 0.3355 - val_mean_absolute_error: 0.4234\n"
     ]
    }
   ],
   "source": [
    "lstm_history_multi_120 = compile_and_fit_multi_120(lstm_model_multi_120)"
   ]
  },
  {
   "cell_type": "markdown",
   "id": "defined-origin",
   "metadata": {},
   "source": [
    "#### Evaluating LSTM model"
   ]
  },
  {
   "cell_type": "code",
   "execution_count": 71,
   "id": "professional-cotton",
   "metadata": {},
   "outputs": [
    {
     "name": "stdout",
     "output_type": "stream",
     "text": [
      "140/140 [==============================] - 0s 2ms/step - loss: 0.0857 - mean_absolute_error: 0.2169\n",
      "134/134 [==============================] - 2s 14ms/step - loss: 0.2516 - mean_absolute_error: 0.3648\n"
     ]
    }
   ],
   "source": [
    "lstm_loss_multi_24,lstm_test_multi_24 = lstm_model_multi_24.evaluate(test_window24,test_labels24)\n",
    "lstm_loss_multi_120,lstm_test_multi_120 = lstm_model_multi_120.evaluate(test_window120,test_labels120)"
   ]
  },
  {
   "cell_type": "code",
   "execution_count": 73,
   "id": "filled-serial",
   "metadata": {},
   "outputs": [
    {
     "data": {
      "text/html": [
       "<div>\n",
       "<style scoped>\n",
       "    .dataframe tbody tr th:only-of-type {\n",
       "        vertical-align: middle;\n",
       "    }\n",
       "\n",
       "    .dataframe tbody tr th {\n",
       "        vertical-align: top;\n",
       "    }\n",
       "\n",
       "    .dataframe thead th {\n",
       "        text-align: right;\n",
       "    }\n",
       "</style>\n",
       "<table border=\"1\" class=\"dataframe\">\n",
       "  <thead>\n",
       "    <tr style=\"text-align: right;\">\n",
       "      <th></th>\n",
       "      <th>Window Size 24</th>\n",
       "      <th>Window Size 120</th>\n",
       "    </tr>\n",
       "  </thead>\n",
       "  <tbody>\n",
       "    <tr>\n",
       "      <th>Baseline-Repeat</th>\n",
       "      <td>0.212226</td>\n",
       "      <td>0.438769</td>\n",
       "    </tr>\n",
       "    <tr>\n",
       "      <th>Linear</th>\n",
       "      <td>0.801588</td>\n",
       "      <td>0.809968</td>\n",
       "    </tr>\n",
       "    <tr>\n",
       "      <th>RNN-LSTM</th>\n",
       "      <td>0.216906</td>\n",
       "      <td>0.364774</td>\n",
       "    </tr>\n",
       "  </tbody>\n",
       "</table>\n",
       "</div>"
      ],
      "text/plain": [
       "                 Window Size 24  Window Size 120\n",
       "Baseline-Repeat        0.212226         0.438769\n",
       "Linear                 0.801588         0.809968\n",
       "RNN-LSTM               0.216906         0.364774"
      ]
     },
     "execution_count": 73,
     "metadata": {},
     "output_type": "execute_result"
    }
   ],
   "source": [
    "\n",
    "multistep_models = ['Baseline-Repeat','Linear','RNN-LSTM']\n",
    "cols = ['Window Size 24','Window Size 120']\n",
    "mae_multi24 = [baseline_test_multi24,linear_test_multi24,lstm_test_multi_24]\n",
    "mae_multi120 = [baseline_test_multi120,linear_test_multi120,lstm_test_multi_120]\n",
    "\n",
    "multistep = pd.DataFrame([mae_multi24,mae_multi120],index=cols,columns=multistep_models).transpose()\n",
    "multistep"
   ]
  }
 ],
 "metadata": {
  "kernelspec": {
   "display_name": "Python 3",
   "language": "python",
   "name": "python3"
  },
  "language_info": {
   "codemirror_mode": {
    "name": "ipython",
    "version": 3
   },
   "file_extension": ".py",
   "mimetype": "text/x-python",
   "name": "python",
   "nbconvert_exporter": "python",
   "pygments_lexer": "ipython3",
   "version": "3.8.5"
  }
 },
 "nbformat": 4,
 "nbformat_minor": 5
}
